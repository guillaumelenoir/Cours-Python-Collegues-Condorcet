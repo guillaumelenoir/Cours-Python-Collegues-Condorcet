{
 "cells": [
  {
   "cell_type": "markdown",
   "id": "d71f00f5",
   "metadata": {},
   "source": [
    "# <span style=\"color:green\"><ins>Chapitre 2: Vecteurs, matrices et systèmes linéaires</ins></span>"
   ]
  },
  {
   "cell_type": "code",
   "execution_count": 1,
   "id": "f1946cab",
   "metadata": {},
   "outputs": [],
   "source": [
    "import numpy as np"
   ]
  },
  {
   "cell_type": "markdown",
   "id": "cb06347a",
   "metadata": {},
   "source": [
    "Dans ce chapitre, nous allons présenter quelques fonctions de la sous-librairie \"linalg\" de numpy (linear algebra). La liste exhaustive de toutes les fonctions disponibles est présentée sous le lien suivant :\n",
    "https://numpy.org/doc/stable/reference/routines.linalg.html"
   ]
  },
  {
   "cell_type": "markdown",
   "id": "51594fd1",
   "metadata": {},
   "source": [
    "## 2.1 Matrices et vecteurs : syntaxe"
   ]
  },
  {
   "cell_type": "markdown",
   "id": "8916632d",
   "metadata": {},
   "source": [
    "On supposera toujours que les matrices et vecteurs sont définis comme des tableaux numpy comme suit :<br/>\n",
    "Pour définir\n",
    "\\begin{equation*}\n",
    "A=\n",
    "\\left(\n",
    "\\begin{matrix}\n",
    "1 & 2\\\\\n",
    "3 & 4\n",
    "\\end{matrix}\n",
    "\\right)\n",
    "\\end{equation*}\n",
    "On code :"
   ]
  },
  {
   "cell_type": "code",
   "execution_count": 2,
   "id": "017e4bef",
   "metadata": {},
   "outputs": [
    {
     "name": "stdout",
     "output_type": "stream",
     "text": [
      "[[1 2]\n",
      " [3 4]]\n"
     ]
    }
   ],
   "source": [
    "A=np.array([[1,2],[3,4]])\n",
    "print(A)"
   ]
  },
  {
   "cell_type": "markdown",
   "id": "2ba232eb",
   "metadata": {},
   "source": [
    "Pour définir\n",
    "\\begin{equation*}\n",
    "A=\n",
    "\\left(\n",
    "\\begin{matrix}\n",
    "1\\\\\n",
    "2\n",
    "\\end{matrix}\n",
    "\\right)\n",
    "\\end{equation*}\n",
    "On code :"
   ]
  },
  {
   "cell_type": "code",
   "execution_count": 3,
   "id": "d1befe8a",
   "metadata": {},
   "outputs": [
    {
     "name": "stdout",
     "output_type": "stream",
     "text": [
      "[[1]\n",
      " [2]]\n"
     ]
    }
   ],
   "source": [
    "A=np.array([[1],[2]])\n",
    "print(A)"
   ]
  },
  {
   "cell_type": "markdown",
   "id": "f8f9e821",
   "metadata": {},
   "source": [
    "Pour définir\n",
    "\\begin{equation*}\n",
    "A=\n",
    "\\left(\n",
    "\\begin{matrix}\n",
    "1 & 2\n",
    "\\end{matrix}\n",
    "\\right)\n",
    "\\end{equation*}\n",
    "On code :"
   ]
  },
  {
   "cell_type": "code",
   "execution_count": 4,
   "id": "9c71e499",
   "metadata": {},
   "outputs": [
    {
     "name": "stdout",
     "output_type": "stream",
     "text": [
      "[[1 2]]\n"
     ]
    }
   ],
   "source": [
    "A=np.array([[1,2]])\n",
    "print(A)"
   ]
  },
  {
   "cell_type": "markdown",
   "id": "0c1d87df",
   "metadata": {},
   "source": [
    "On notera que les matrices créées ci-dessus sont de type entier, ce qui peut potentiellement causer des problèmes d'overflow. Si le risque existe, il est préférable de travailler avec des *réels* : "
   ]
  },
  {
   "cell_type": "code",
   "execution_count": 5,
   "id": "ca48d08e",
   "metadata": {},
   "outputs": [
    {
     "name": "stdout",
     "output_type": "stream",
     "text": [
      "[[1. 2.]\n",
      " [3. 4.]]\n"
     ]
    }
   ],
   "source": [
    "A=np.array([[1.,2.],[3.,4.]])\n",
    "print(A)"
   ]
  },
  {
   "cell_type": "markdown",
   "id": "71733e7a",
   "metadata": {},
   "source": [
    "ou bien "
   ]
  },
  {
   "cell_type": "code",
   "execution_count": 6,
   "id": "7b8b44bb",
   "metadata": {},
   "outputs": [
    {
     "name": "stdout",
     "output_type": "stream",
     "text": [
      "[[1. 2.]\n",
      " [3. 4.]]\n"
     ]
    }
   ],
   "source": [
    "A=np.array([[1,2],[3,4]],dtype=np.float64)    # floating point number sur 64 bits\n",
    "print(A)"
   ]
  },
  {
   "cell_type": "markdown",
   "id": "b48e7ac3",
   "metadata": {},
   "source": [
    "## 2.2 Opérations matricielles versus opérations terme à terme"
   ]
  },
  {
   "cell_type": "markdown",
   "id": "54a34416",
   "metadata": {},
   "source": [
    "### La règle"
   ]
  },
  {
   "cell_type": "markdown",
   "id": "b8d083b1",
   "metadata": {},
   "source": [
    "Lorsqu'on écrit `A@B`, c'est une multiplication matricielle, les dimensions de $A$ et $B$ doivent donc satisfaire les propriétés matricielles.<br/>\n",
    "Lorsqu'on écrit `A*B`, `A/B` ou `A**B`, ce sont des opérations terme à terme (l'opérateur s'applique entre les mêmes composantes de $A$ et $B$). $A$ et $B$ doivent donc avoir la même dimension."
   ]
  },
  {
   "cell_type": "markdown",
   "id": "e97221f7",
   "metadata": {},
   "source": [
    "### Exemple 1"
   ]
  },
  {
   "cell_type": "markdown",
   "id": "8de49b43",
   "metadata": {},
   "source": [
    "Soient les matrices suivantes :"
   ]
  },
  {
   "cell_type": "code",
   "execution_count": 7,
   "id": "a0d7422e",
   "metadata": {},
   "outputs": [
    {
     "name": "stdout",
     "output_type": "stream",
     "text": [
      "[[1 2]\n",
      " [3 4]]\n"
     ]
    }
   ],
   "source": [
    "A=np.array([[1,2],[3,4]])\n",
    "print(A)"
   ]
  },
  {
   "cell_type": "code",
   "execution_count": 8,
   "id": "ec07cbfd",
   "metadata": {},
   "outputs": [
    {
     "name": "stdout",
     "output_type": "stream",
     "text": [
      "[[5 0]\n",
      " [2 1]]\n"
     ]
    }
   ],
   "source": [
    "B=np.array([[5,0],[2,1]])\n",
    "print(B)"
   ]
  },
  {
   "cell_type": "markdown",
   "id": "0de9479c",
   "metadata": {},
   "source": [
    "`A@B` va donner la multiplication matricielle, et `A*B` va donner la multiplication terme à terme (élément (i,j) de $A$ multiplié par l'élément (i,j) de $B$) :"
   ]
  },
  {
   "cell_type": "code",
   "execution_count": 9,
   "id": "9822ef09",
   "metadata": {},
   "outputs": [
    {
     "name": "stdout",
     "output_type": "stream",
     "text": [
      "[[ 9  2]\n",
      " [23  4]]\n"
     ]
    }
   ],
   "source": [
    "print(A@B)"
   ]
  },
  {
   "cell_type": "code",
   "execution_count": 10,
   "id": "11f98b27",
   "metadata": {},
   "outputs": [
    {
     "name": "stdout",
     "output_type": "stream",
     "text": [
      "[[5 0]\n",
      " [6 4]]\n"
     ]
    }
   ],
   "source": [
    "print(A*B)"
   ]
  },
  {
   "cell_type": "markdown",
   "id": "c6f05e7e",
   "metadata": {},
   "source": [
    "### Exemple 2"
   ]
  },
  {
   "cell_type": "markdown",
   "id": "f7a540f8",
   "metadata": {},
   "source": [
    "Soient les matrices suivantes :"
   ]
  },
  {
   "cell_type": "code",
   "execution_count": 11,
   "id": "3f06f705",
   "metadata": {},
   "outputs": [
    {
     "name": "stdout",
     "output_type": "stream",
     "text": [
      "[[1 2 3]\n",
      " [4 5 6]]\n"
     ]
    }
   ],
   "source": [
    "A=np.array([[1,2,3],[4,5,6]])\n",
    "print(A)"
   ]
  },
  {
   "cell_type": "code",
   "execution_count": 12,
   "id": "d06f1e35",
   "metadata": {},
   "outputs": [
    {
     "name": "stdout",
     "output_type": "stream",
     "text": [
      "[[5]\n",
      " [2]\n",
      " [0]]\n"
     ]
    }
   ],
   "source": [
    "B=np.array([[5],[2],[0]])\n",
    "print(B)"
   ]
  },
  {
   "cell_type": "markdown",
   "id": "b548bb38",
   "metadata": {},
   "source": [
    "`A@B` va donner la multiplication matricielle, et `A*B` va donner **une erreur** car  $A$ et $B$ ne sont pas de même dimension :"
   ]
  },
  {
   "cell_type": "code",
   "execution_count": 13,
   "id": "4d640667",
   "metadata": {},
   "outputs": [
    {
     "name": "stdout",
     "output_type": "stream",
     "text": [
      "[[ 9]\n",
      " [30]]\n"
     ]
    }
   ],
   "source": [
    "print(A@B)"
   ]
  },
  {
   "cell_type": "code",
   "execution_count": 14,
   "id": "56e44ecd",
   "metadata": {},
   "outputs": [
    {
     "ename": "ValueError",
     "evalue": "operands could not be broadcast together with shapes (2,3) (3,1) ",
     "output_type": "error",
     "traceback": [
      "\u001b[0;31m---------------------------------------------------------------------------\u001b[0m",
      "\u001b[0;31mValueError\u001b[0m                                Traceback (most recent call last)",
      "Cell \u001b[0;32mIn[14], line 1\u001b[0m\n\u001b[0;32m----> 1\u001b[0m \u001b[38;5;28mprint\u001b[39m(\u001b[43mA\u001b[49m\u001b[38;5;241;43m*\u001b[39;49m\u001b[43mB\u001b[49m)\n",
      "\u001b[0;31mValueError\u001b[0m: operands could not be broadcast together with shapes (2,3) (3,1) "
     ]
    }
   ],
   "source": [
    "print(A*B)"
   ]
  },
  {
   "cell_type": "markdown",
   "id": "5a9e5160",
   "metadata": {},
   "source": [
    "### Exemple 3"
   ]
  },
  {
   "cell_type": "markdown",
   "id": "d929b963",
   "metadata": {},
   "source": [
    "Soient les matrices suivantes :"
   ]
  },
  {
   "cell_type": "code",
   "execution_count": 15,
   "id": "c5b7b7c0",
   "metadata": {},
   "outputs": [
    {
     "name": "stdout",
     "output_type": "stream",
     "text": [
      "[[1 2 3]\n",
      " [4 5 6]]\n"
     ]
    }
   ],
   "source": [
    "A=np.array([[1,2,3],[4,5,6]])\n",
    "print(A)"
   ]
  },
  {
   "cell_type": "code",
   "execution_count": 16,
   "id": "513f8002",
   "metadata": {},
   "outputs": [
    {
     "name": "stdout",
     "output_type": "stream",
     "text": [
      "[[5 0 3]\n",
      " [2 1 5]]\n"
     ]
    }
   ],
   "source": [
    "B=np.array([[5,0,3],[2,1,5]])\n",
    "print(B)"
   ]
  },
  {
   "cell_type": "markdown",
   "id": "cfa45731",
   "metadata": {},
   "source": [
    "`A@B` va donner **une erreur** car le nombre de colonnes de $A$ n'est pas égal au nombre de lignes de $B$, et `A*B` va donner la multiplication terme à terme :"
   ]
  },
  {
   "cell_type": "code",
   "execution_count": 18,
   "id": "7be1daaa",
   "metadata": {},
   "outputs": [
    {
     "ename": "ValueError",
     "evalue": "matmul: Input operand 1 has a mismatch in its core dimension 0, with gufunc signature (n?,k),(k,m?)->(n?,m?) (size 2 is different from 3)",
     "output_type": "error",
     "traceback": [
      "\u001b[0;31m---------------------------------------------------------------------------\u001b[0m",
      "\u001b[0;31mValueError\u001b[0m                                Traceback (most recent call last)",
      "Cell \u001b[0;32mIn[18], line 1\u001b[0m\n\u001b[0;32m----> 1\u001b[0m \u001b[38;5;28mprint\u001b[39m(\u001b[43mA\u001b[49m\u001b[38;5;129;43m@B\u001b[39;49m)\n",
      "\u001b[0;31mValueError\u001b[0m: matmul: Input operand 1 has a mismatch in its core dimension 0, with gufunc signature (n?,k),(k,m?)->(n?,m?) (size 2 is different from 3)"
     ]
    }
   ],
   "source": [
    "print(A@B)"
   ]
  },
  {
   "cell_type": "code",
   "execution_count": 19,
   "id": "791cdeab",
   "metadata": {},
   "outputs": [
    {
     "name": "stdout",
     "output_type": "stream",
     "text": [
      "[[ 5  0  9]\n",
      " [ 8  5 30]]\n"
     ]
    }
   ],
   "source": [
    "print(A*B)"
   ]
  },
  {
   "cell_type": "markdown",
   "id": "e1dc1732",
   "metadata": {},
   "source": [
    "### Exemple 4"
   ]
  },
  {
   "cell_type": "markdown",
   "id": "2cf36a0d",
   "metadata": {},
   "source": [
    "Soit la matrice suivante :"
   ]
  },
  {
   "cell_type": "code",
   "execution_count": 20,
   "id": "2b9dafe5",
   "metadata": {},
   "outputs": [
    {
     "name": "stdout",
     "output_type": "stream",
     "text": [
      "[[1 2 3]\n",
      " [4 5 6]]\n"
     ]
    }
   ],
   "source": [
    "A=np.array([[1,2,3],[4,5,6]])\n",
    "print(A)"
   ]
  },
  {
   "cell_type": "markdown",
   "id": "11234eda",
   "metadata": {},
   "source": [
    "L'opération `2*A` multiplie chaque élément de $A$ par 2 :"
   ]
  },
  {
   "cell_type": "code",
   "execution_count": 21,
   "id": "098d1eb2",
   "metadata": {},
   "outputs": [
    {
     "name": "stdout",
     "output_type": "stream",
     "text": [
      "[[ 2  4  6]\n",
      " [ 8 10 12]]\n"
     ]
    }
   ],
   "source": [
    "print(2*A)"
   ]
  },
  {
   "cell_type": "markdown",
   "id": "99cd7866",
   "metadata": {},
   "source": [
    "Tandis que `2@A` renverra une erreur car $2$ et $A$ ont des dimensions non compatibles :"
   ]
  },
  {
   "cell_type": "code",
   "execution_count": 22,
   "id": "3200ff85",
   "metadata": {},
   "outputs": [
    {
     "ename": "ValueError",
     "evalue": "matmul: Input operand 0 does not have enough dimensions (has 0, gufunc core with signature (n?,k),(k,m?)->(n?,m?) requires 1)",
     "output_type": "error",
     "traceback": [
      "\u001b[0;31m---------------------------------------------------------------------------\u001b[0m",
      "\u001b[0;31mValueError\u001b[0m                                Traceback (most recent call last)",
      "Cell \u001b[0;32mIn[22], line 1\u001b[0m\n\u001b[0;32m----> 1\u001b[0m \u001b[38;5;28mprint\u001b[39m(\u001b[38;5;241;43m2\u001b[39;49m\u001b[38;5;129;43m@A\u001b[39;49m)\n",
      "\u001b[0;31mValueError\u001b[0m: matmul: Input operand 0 does not have enough dimensions (has 0, gufunc core with signature (n?,k),(k,m?)->(n?,m?) requires 1)"
     ]
    }
   ],
   "source": [
    "print(2@A)"
   ]
  },
  {
   "cell_type": "markdown",
   "id": "f1a69a12",
   "metadata": {},
   "source": [
    "### Exemple 5"
   ]
  },
  {
   "cell_type": "markdown",
   "id": "2b097886",
   "metadata": {},
   "source": [
    "Soit la matrice suivante :"
   ]
  },
  {
   "cell_type": "code",
   "execution_count": 23,
   "id": "2ce74c32",
   "metadata": {},
   "outputs": [
    {
     "name": "stdout",
     "output_type": "stream",
     "text": [
      "[[1 2]\n",
      " [4 5]]\n"
     ]
    }
   ],
   "source": [
    "A=np.array([[1,2],[4,5]])\n",
    "print(A)"
   ]
  },
  {
   "cell_type": "markdown",
   "id": "07ab65e2",
   "metadata": {},
   "source": [
    "Faire `A**2` signifie `A*A`, c'est à dire que tous les termes de la matrice sont élevés au carré. Code :"
   ]
  },
  {
   "cell_type": "code",
   "execution_count": 24,
   "id": "1ef62179",
   "metadata": {},
   "outputs": [
    {
     "name": "stdout",
     "output_type": "stream",
     "text": [
      "[[ 1  4]\n",
      " [16 25]]\n"
     ]
    }
   ],
   "source": [
    "print(A**2)"
   ]
  },
  {
   "cell_type": "markdown",
   "id": "ea994a04",
   "metadata": {},
   "source": [
    "Si maintenant on veut prendre le carré au point de vue matriciel, qui signifie `A@A`, la syntaxe est la suivante :"
   ]
  },
  {
   "cell_type": "code",
   "execution_count": 25,
   "id": "e4e5ed01",
   "metadata": {},
   "outputs": [
    {
     "name": "stdout",
     "output_type": "stream",
     "text": [
      "[[ 9 12]\n",
      " [24 33]]\n"
     ]
    }
   ],
   "source": [
    "print(np.linalg.matrix_power(A,2))"
   ]
  },
  {
   "cell_type": "markdown",
   "id": "f97aba4c",
   "metadata": {},
   "source": [
    "## 2.3 Manipulations matricielles de base"
   ]
  },
  {
   "cell_type": "code",
   "execution_count": 26,
   "id": "02685347",
   "metadata": {},
   "outputs": [
    {
     "name": "stdout",
     "output_type": "stream",
     "text": [
      "[[1 1 2]\n",
      " [3 3 5]\n",
      " [4 7 8]]\n"
     ]
    }
   ],
   "source": [
    "A=np.array([[1,1,2],[3,3,5],[4,7,8]])\n",
    "print(A)"
   ]
  },
  {
   "cell_type": "markdown",
   "id": "5b5f0db8",
   "metadata": {},
   "source": [
    "### Accéder aux éléments d'une matrice"
   ]
  },
  {
   "cell_type": "code",
   "execution_count": 27,
   "id": "3e4be1f6",
   "metadata": {},
   "outputs": [
    {
     "name": "stdout",
     "output_type": "stream",
     "text": [
      "3\n"
     ]
    }
   ],
   "source": [
    "print(A[1,1])   # les indices commencent à 0 !!!"
   ]
  },
  {
   "cell_type": "code",
   "execution_count": 28,
   "id": "d46e5ffd",
   "metadata": {},
   "outputs": [
    {
     "name": "stdout",
     "output_type": "stream",
     "text": [
      "3\n"
     ]
    }
   ],
   "source": [
    "print(A[1][1])    # équivalent"
   ]
  },
  {
   "cell_type": "markdown",
   "id": "c1a62b95",
   "metadata": {},
   "source": [
    "### Dimension, nombre d'éléments"
   ]
  },
  {
   "cell_type": "code",
   "execution_count": 29,
   "id": "85f59fbd",
   "metadata": {},
   "outputs": [
    {
     "name": "stdout",
     "output_type": "stream",
     "text": [
      "(3, 3)\n"
     ]
    }
   ],
   "source": [
    "print(A.shape)     # ou bien : np.shape(A)"
   ]
  },
  {
   "cell_type": "code",
   "execution_count": 30,
   "id": "5ab132f5",
   "metadata": {},
   "outputs": [
    {
     "name": "stdout",
     "output_type": "stream",
     "text": [
      "3\n"
     ]
    }
   ],
   "source": [
    "print(A.shape[0])   # nombre de lignes de la matrice A"
   ]
  },
  {
   "cell_type": "code",
   "execution_count": 31,
   "id": "ed578125",
   "metadata": {},
   "outputs": [
    {
     "name": "stdout",
     "output_type": "stream",
     "text": [
      "<class 'tuple'>\n"
     ]
    }
   ],
   "source": [
    "print(type(A.shape)) # l'output est de type \"tuple\", voir chap. 3"
   ]
  },
  {
   "cell_type": "code",
   "execution_count": 32,
   "id": "e1c27270",
   "metadata": {},
   "outputs": [
    {
     "name": "stdout",
     "output_type": "stream",
     "text": [
      "9\n"
     ]
    }
   ],
   "source": [
    "print(A.size)       # Nombre d'éléments ; ou bien : np.size(A)"
   ]
  },
  {
   "cell_type": "markdown",
   "id": "d3ba0e57",
   "metadata": {},
   "source": [
    "### Transposée, inverse, déterminant"
   ]
  },
  {
   "cell_type": "code",
   "execution_count": 33,
   "id": "59bc8649",
   "metadata": {},
   "outputs": [
    {
     "name": "stdout",
     "output_type": "stream",
     "text": [
      "[[1 3 4]\n",
      " [1 3 7]\n",
      " [2 5 8]]\n",
      "[[1 1 2]\n",
      " [3 3 5]\n",
      " [4 7 8]]\n"
     ]
    }
   ],
   "source": [
    "print(np.transpose(A)) # calcule la transposée\n",
    "A.transpose       # applique l'opérateur transposée à A\n",
    "print(A)"
   ]
  },
  {
   "cell_type": "code",
   "execution_count": 34,
   "id": "08a051aa",
   "metadata": {},
   "outputs": [
    {
     "name": "stdout",
     "output_type": "stream",
     "text": [
      "[[-3.66666667e+00  2.00000000e+00 -3.33333333e-01]\n",
      " [-1.33333333e+00 -0.00000000e+00  3.33333333e-01]\n",
      " [ 3.00000000e+00 -1.00000000e+00 -4.16333634e-17]]\n"
     ]
    }
   ],
   "source": [
    "Ainv=np.linalg.inv(A)    # matrice inverse\n",
    "print(Ainv)"
   ]
  },
  {
   "cell_type": "code",
   "execution_count": 35,
   "id": "29fdd395",
   "metadata": {},
   "outputs": [
    {
     "name": "stdout",
     "output_type": "stream",
     "text": [
      "2.999999999999999\n"
     ]
    }
   ],
   "source": [
    "print(np.linalg.det(A))"
   ]
  },
  {
   "cell_type": "markdown",
   "id": "e8dc99f7",
   "metadata": {},
   "source": [
    "### Ajouter des éléments en fin de tableau : append"
   ]
  },
  {
   "cell_type": "code",
   "execution_count": 36,
   "id": "2754e61b",
   "metadata": {},
   "outputs": [
    {
     "name": "stdout",
     "output_type": "stream",
     "text": [
      "[[1 1 2]\n",
      " [3 3 5]\n",
      " [4 7 8]\n",
      " [1 2 3]]\n"
     ]
    }
   ],
   "source": [
    "A=np.append(A,[[1,2,3]],axis=0)    # axis = 0 => ajout d'une ligne\n",
    "print(A)"
   ]
  },
  {
   "cell_type": "code",
   "execution_count": 37,
   "id": "6a5a9d18",
   "metadata": {},
   "outputs": [
    {
     "name": "stdout",
     "output_type": "stream",
     "text": [
      "[[1 1 2 0]\n",
      " [3 3 5 0]\n",
      " [4 7 8 0]\n",
      " [1 2 3 0]]\n"
     ]
    }
   ],
   "source": [
    "A=np.append(A,[[0],[0],[0],[0]],axis=1)    # axis = 1 => ajout d'une colonne\n",
    "print(A)"
   ]
  },
  {
   "cell_type": "code",
   "execution_count": 38,
   "id": "f9f3f51a",
   "metadata": {},
   "outputs": [
    {
     "name": "stdout",
     "output_type": "stream",
     "text": [
      "[1 2 3 4]\n"
     ]
    }
   ],
   "source": [
    "x=np.array([1,2,3])\n",
    "x=np.append(x,4)         # avec tableaux 1D, pas besoin de spécifier axis\n",
    "print(x)"
   ]
  },
  {
   "cell_type": "markdown",
   "id": "dbba47fe",
   "metadata": {},
   "source": [
    "### Insérer des éléments dans un tableau : insert"
   ]
  },
  {
   "cell_type": "code",
   "execution_count": 39,
   "id": "2c54bd1a",
   "metadata": {},
   "outputs": [
    {
     "name": "stdout",
     "output_type": "stream",
     "text": [
      "[[1 2]\n",
      " [3 4]]\n"
     ]
    }
   ],
   "source": [
    "A=np.array([[1,2],[3,4]])\n",
    "print(A)"
   ]
  },
  {
   "cell_type": "code",
   "execution_count": 40,
   "id": "cd3d3ddd",
   "metadata": {},
   "outputs": [
    {
     "name": "stdout",
     "output_type": "stream",
     "text": [
      "[[0 7]\n",
      " [8 9]]\n"
     ]
    }
   ],
   "source": [
    "B=np.array([[0,7],[8,9]])\n",
    "print(B)"
   ]
  },
  {
   "cell_type": "code",
   "execution_count": 41,
   "id": "64f8a561",
   "metadata": {},
   "outputs": [
    {
     "name": "stdout",
     "output_type": "stream",
     "text": [
      "[[1 0 8 2]\n",
      " [3 7 9 4]]\n"
     ]
    }
   ],
   "source": [
    "A=np.insert(A,1,B,axis=1)     # Insertion de B selon les colonnes (axis=1) et AVANT la colonne 1 de A\n",
    "print(A)"
   ]
  },
  {
   "cell_type": "markdown",
   "id": "4ced7d9c",
   "metadata": {},
   "source": [
    "## 2.4 Exercice 1"
   ]
  },
  {
   "cell_type": "markdown",
   "id": "d562e1ec",
   "metadata": {},
   "source": [
    "<ol>\n",
    "    <li>Construisez la matrice $A$ donnée par \n",
    "\\begin{equation}\n",
    "A=Id+v^{t}.v\n",
    "\\end{equation}\n",
    "    où $Id$ est la matrice identité et $v=(1,2,3,4,5,6,7,8,9,10)$ et $v^{t}$ est la transposée de $v$.</li>\n",
    "    <li> Ajoutez $2$ à l'élément $A_{23}$.</li>\n",
    "    <li> Vérifiez que la nouvelle matrice A est une matrice inversible.</li>\n",
    "    <li>Construisez le vecteur $u$ défini par\n",
    "\\begin{equation}\n",
    "u=w.A^3+4.v\n",
    "\\end{equation}\n",
    "    où $w$ est un vecteur de même taille que $v$ dont les composantes sont le carré des composantes correspondantes de $v$.</li>\n",
    "    <li>Remplacez la troisième composante de $u$ par le nombre $7$.</li>\n",
    "     <li>Insérez le nombre $8$ entre la 2ème et 3ème composante de u et ajoutez un $0$ en fin de vecteur.</li>\n",
    "</ol>"
   ]
  },
  {
   "cell_type": "markdown",
   "id": "9b7e4b89",
   "metadata": {},
   "source": [
    "## 2.5 Résolution d'un système linéaire"
   ]
  },
  {
   "cell_type": "markdown",
   "id": "7f83e0e8",
   "metadata": {},
   "source": [
    "Pour résoudre un système linéaire carré inversible ``Ax=b``, la syntaxe est ``x=np.linalg.solve(A,b)``, à privilégier par rapport à ``x=np.inv(A)@b``. "
   ]
  },
  {
   "cell_type": "markdown",
   "id": "ec54a829",
   "metadata": {},
   "source": [
    "### Exercice 2"
   ]
  },
  {
   "cell_type": "markdown",
   "id": "d9ca41cb",
   "metadata": {},
   "source": [
    "Astérix, Spirou, Kid Paddle et Gaston Lagaffe se rendent dans un Kebab. Astérix prend 8 assiettes gyros spéciales, 10 frites et 6 boissons. Il paie 43 euros. Spirou mange 2 frites et 2 boissons, mais ne prend pas d’assiette gyros spéciale, et il paie 9 euros. Kid Paddle se contente d’une assiette gyros spéciale et d’une boisson et paie 4.5 euros. Gaston Lagaffe voudrait prendre 1 assiette gyros spéciale avec 1 frite.<br>\n",
    "Combien devra-t-il payer? Présentez la réponse proprement. "
   ]
  },
  {
   "cell_type": "markdown",
   "id": "afde0ab5",
   "metadata": {},
   "source": [
    "## 2.6 Valeurs propres et vecteurs propres : exercice résolu"
   ]
  },
  {
   "cell_type": "markdown",
   "id": "5975d007",
   "metadata": {},
   "source": [
    "Diagonalisez la matrice hermitienne suivante et affichez ses vecteurs propres. Vérifiez que l'équation aux valeurs propres est bien satisfaite.\n",
    "\\begin{equation*}\n",
    "\\left(\n",
    "\\begin{matrix}\n",
    "1 & 3 & -3-2i & 4+5i\\\\\n",
    "3 & 0 & 9+4i & 22 \\\\\n",
    "-3+2i & 9-4i & -3 & 6\\\\\n",
    "4-5i & 22 & 6 & 1\n",
    "\\end{matrix}\n",
    "\\right)\n",
    "\\end{equation*}"
   ]
  },
  {
   "cell_type": "code",
   "execution_count": 50,
   "id": "41ce8b04",
   "metadata": {},
   "outputs": [
    {
     "name": "stdout",
     "output_type": "stream",
     "text": [
      "[[ 1.+0.j  3.+0.j -3.-2.j  4.+5.j]\n",
      " [ 3.+0.j  0.+0.j  9.+4.j 22.+0.j]\n",
      " [-3.+2.j  9.-4.j -3.+0.j  6.+0.j]\n",
      " [ 4.-5.j 22.+0.j  6.+0.j  1.+0.j]]\n"
     ]
    }
   ],
   "source": [
    "A=np.array([[1,3,-3-2j,4+5j],[3,0,9+4j,22],[-3+2j,9-4j,-3,6],[4-5j,22,6,1]])\n",
    "print(A)"
   ]
  },
  {
   "cell_type": "code",
   "execution_count": 51,
   "id": "207a700b",
   "metadata": {},
   "outputs": [],
   "source": [
    "eigenvalues,eigenvectors=np.linalg.eig(A)"
   ]
  },
  {
   "cell_type": "code",
   "execution_count": 52,
   "id": "9c9a8ef5",
   "metadata": {},
   "outputs": [
    {
     "name": "stdout",
     "output_type": "stream",
     "text": [
      "[ 27.39749166-1.39837205e-15j   3.58488421-1.56158519e-16j\n",
      "  -9.05974243-3.00081538e-16j -22.92263343+1.85461211e-15j]\n"
     ]
    }
   ],
   "source": [
    "# Vecteur des valeurs propres de A :\n",
    "print(eigenvalues)  # les VP sont réelles car A hermitienne"
   ]
  },
  {
   "cell_type": "code",
   "execution_count": 53,
   "id": "7f9f405e",
   "metadata": {},
   "outputs": [
    {
     "name": "stdout",
     "output_type": "stream",
     "text": [
      "[[ 0.13356281+0.11419533j  0.85845223+0.j          0.28846421+0.34819761j\n",
      "  -0.026595  +0.16437671j]\n",
      " [ 0.65711475+0.03132279j -0.05430222+0.09031747j -0.22224968+0.10939326j\n",
      "   0.7033856 +0.j        ]\n",
      " [ 0.30817067-0.0796781j  -0.33977415+0.35466135j  0.77980064+0.j\n",
      "  -0.10972633+0.1931895j ]\n",
      " [ 0.65956177+0.j          0.07757222-0.06859445j -0.26682153-0.23431228j\n",
      "  -0.64924411-0.08149683j]]\n"
     ]
    }
   ],
   "source": [
    "# Matrice des vecteurs propres normalisés (de même taille que A)\n",
    "# 1 vecteur propre par colonne\n",
    "# Le vecteur propre de la ième colonne correspond à la ième valeur propre du vectur eigenvalues\n",
    "U=eigenvectors\n",
    "print(U)"
   ]
  },
  {
   "cell_type": "code",
   "execution_count": 54,
   "id": "0e414dfc",
   "metadata": {},
   "outputs": [
    {
     "name": "stdout",
     "output_type": "stream",
     "text": [
      "[[ 27.39749166-1.39837205e-15j   0.        +0.00000000e+00j\n",
      "    0.        +0.00000000e+00j   0.        +0.00000000e+00j]\n",
      " [  0.        +0.00000000e+00j   3.58488421-1.56158519e-16j\n",
      "    0.        +0.00000000e+00j   0.        +0.00000000e+00j]\n",
      " [  0.        +0.00000000e+00j   0.        +0.00000000e+00j\n",
      "   -9.05974243-3.00081538e-16j   0.        +0.00000000e+00j]\n",
      " [  0.        +0.00000000e+00j   0.        +0.00000000e+00j\n",
      "    0.        +0.00000000e+00j -22.92263343+1.85461211e-15j]]\n"
     ]
    }
   ],
   "source": [
    "# Construction de la matrice diagonale, avec les valeurs propres\n",
    "D=np.diag(eigenvalues)    # matrice diagonale avec \"eigenvalues\" sur la diagonale\n",
    "print(D)"
   ]
  },
  {
   "cell_type": "code",
   "execution_count": 55,
   "id": "a0242023",
   "metadata": {},
   "outputs": [
    {
     "name": "stdout",
     "output_type": "stream",
     "text": [
      "[ 3.65928593+3.12866549e+00j 18.00329585+8.58165800e-01j\n",
      "  8.44310343-2.18297998e+00j 18.07033815-1.45439216e-14j]\n",
      "[ 3.65928593+3.12866549e+00j 18.00329585+8.58165800e-01j\n",
      "  8.44310343-2.18297998e+00j 18.07033815-9.22312748e-16j]\n"
     ]
    }
   ],
   "source": [
    "# Vérification de l'équation aux VP Ax=lambda*x (ici x = une colonne de U et lambda = un élément de eigenvalues)\n",
    "# Vérification pour la première VP (indice 0) :\n",
    "x=U[:,0]    # première colonne de U\n",
    "lamb=eigenvalues[0]\n",
    "print(A@x)   \n",
    "print(lamb*x)    # lambda*x"
   ]
  },
  {
   "cell_type": "code",
   "execution_count": 56,
   "id": "29c4ccb7",
   "metadata": {},
   "outputs": [
    {
     "name": "stdout",
     "output_type": "stream",
     "text": [
      "[ 3.07745184+1.11022302e-16j -0.19466717+3.23777677e-01j\n",
      " -1.21805099+1.27141986e+00j  0.27808743-2.45903150e-01j]\n",
      "[ 3.07745184-1.34054629e-16j -0.19466717+3.23777677e-01j\n",
      " -1.21805099+1.27141986e+00j  0.27808743-2.45903150e-01j]\n"
     ]
    }
   ],
   "source": [
    "# Vérification pour la deuxième VP (indice 1) :\n",
    "x=U[:,1]    # deuxième colonne de U\n",
    "lamb=eigenvalues[1]\n",
    "print(A@x)\n",
    "print(lamb*x)"
   ]
  },
  {
   "cell_type": "code",
   "execution_count": 57,
   "id": "1fdc9c8a",
   "metadata": {},
   "outputs": [
    {
     "name": "stdout",
     "output_type": "stream",
     "text": [
      "[[ 2.73974917e+01+1.11022302e-16j -4.99600361e-15+4.44089210e-16j\n",
      "  -6.88338275e-15+1.66533454e-15j  1.24900090e-16-9.21485110e-15j]\n",
      " [-5.30131494e-15-1.66533454e-16j  3.58488421e+00-1.66533454e-16j\n",
      "   9.29811783e-16-2.22044605e-16j  1.16573418e-15+2.55351296e-15j]\n",
      " [-6.16173779e-15-2.77555756e-15j  1.91513472e-15-4.44089210e-16j\n",
      "  -9.05974243e+00+0.00000000e+00j -8.32667268e-15+6.43929354e-15j]\n",
      " [ 8.04911693e-16+8.77076189e-15j  6.66133815e-16-2.88657986e-15j\n",
      "  -7.54951657e-15-6.21724894e-15j -2.29226334e+01-2.22044605e-16j]]\n",
      "[[ 27.39749166-1.39837205e-15j   0.        +0.00000000e+00j\n",
      "    0.        +0.00000000e+00j   0.        +0.00000000e+00j]\n",
      " [  0.        +0.00000000e+00j   3.58488421-1.56158519e-16j\n",
      "    0.        +0.00000000e+00j   0.        +0.00000000e+00j]\n",
      " [  0.        +0.00000000e+00j   0.        +0.00000000e+00j\n",
      "   -9.05974243-3.00081538e-16j   0.        +0.00000000e+00j]\n",
      " [  0.        +0.00000000e+00j   0.        +0.00000000e+00j\n",
      "    0.        +0.00000000e+00j -22.92263343+1.85461211e-15j]]\n"
     ]
    }
   ],
   "source": [
    "# Vérifier l'équation Ustar@A@U = D\n",
    "Ustar=np.transpose(np.conjugate(U))\n",
    "print(Ustar@A@U)\n",
    "print(D)"
   ]
  },
  {
   "cell_type": "code",
   "execution_count": 58,
   "id": "251f2538",
   "metadata": {},
   "outputs": [
    {
     "name": "stdout",
     "output_type": "stream",
     "text": [
      "[[ 1.00000000e+00-1.03620261e-17j  3.00000000e+00+6.66133815e-15j\n",
      "  -3.00000000e+00-2.00000000e+00j  4.00000000e+00+5.00000000e+00j]\n",
      " [ 3.00000000e+00-7.10542736e-15j -1.42108547e-14+2.75631568e-16j\n",
      "   9.00000000e+00+4.00000000e+00j  2.20000000e+01-5.77315973e-15j]\n",
      " [-3.00000000e+00+2.00000000e+00j  9.00000000e+00-4.00000000e+00j\n",
      "  -3.00000000e+00-2.60964122e-16j  6.00000000e+00-8.43769499e-15j]\n",
      " [ 4.00000000e+00-5.00000000e+00j  2.20000000e+01+3.33066907e-15j\n",
      "   6.00000000e+00+7.54951657e-15j  1.00000000e+00+2.08002558e-16j]]\n",
      "[[ 1.+0.j  3.+0.j -3.-2.j  4.+5.j]\n",
      " [ 3.+0.j  0.+0.j  9.+4.j 22.+0.j]\n",
      " [-3.+2.j  9.-4.j -3.+0.j  6.+0.j]\n",
      " [ 4.-5.j 22.+0.j  6.+0.j  1.+0.j]]\n"
     ]
    }
   ],
   "source": [
    "# Vérifier l'équation U@D@Ustar=A\n",
    "print(U@D@Ustar)\n",
    "print(A)"
   ]
  },
  {
   "cell_type": "code",
   "execution_count": 59,
   "id": "925a8879",
   "metadata": {},
   "outputs": [
    {
     "name": "stdout",
     "output_type": "stream",
     "text": [
      "[[ 1.00000000e+00-4.93247390e-18j  1.94289029e-16+1.38777878e-16j\n",
      "  -1.11022302e-16-5.55111512e-17j  1.52655666e-16+1.66533454e-16j]\n",
      " [ 1.94289029e-16-1.52655666e-16j  1.00000000e+00-3.67808877e-19j\n",
      "   5.55111512e-17+3.33066907e-16j -3.88578059e-16-6.80011603e-16j]\n",
      " [-1.11022302e-16+5.55111512e-17j  5.55111512e-17-3.33066907e-16j\n",
      "   1.00000000e+00+1.35275592e-18j -1.31838984e-16+1.38777878e-16j]\n",
      " [ 1.52655666e-16-1.66533454e-16j -3.88578059e-16+6.80011603e-16j\n",
      "  -1.31838984e-16-1.66533454e-16j  1.00000000e+00-2.27537407e-18j]]\n"
     ]
    }
   ],
   "source": [
    "# Vérifions que U est bien unitaire : U@Ustar=Identité\n",
    "print(U@Ustar) "
   ]
  }
 ],
 "metadata": {
  "kernelspec": {
   "display_name": "Python 3 (ipykernel)",
   "language": "python",
   "name": "python3"
  },
  "language_info": {
   "codemirror_mode": {
    "name": "ipython",
    "version": 3
   },
   "file_extension": ".py",
   "mimetype": "text/x-python",
   "name": "python",
   "nbconvert_exporter": "python",
   "pygments_lexer": "ipython3",
   "version": "3.10.9"
  }
 },
 "nbformat": 4,
 "nbformat_minor": 5
}
