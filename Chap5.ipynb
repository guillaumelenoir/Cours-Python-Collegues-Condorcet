{
 "cells": [
  {
   "cell_type": "markdown",
   "id": "3ed58b24",
   "metadata": {},
   "source": [
    "# <span style=\"color:green\"><ins>Chapitre 5: Conteneurs standards</ins></span>"
   ]
  },
  {
   "cell_type": "code",
   "execution_count": 1,
   "id": "af7541d8",
   "metadata": {},
   "outputs": [],
   "source": [
    "import numpy as np"
   ]
  },
  {
   "cell_type": "markdown",
   "id": "a6404c19",
   "metadata": {},
   "source": [
    "Les listes, ainsi que les tuples, dictionnaires et ensembles, forment ce qu'on appelle les ***conteneurs standards*** de Python. Un conteneur est un objet composite pouvant contenir d'autres objets. "
   ]
  },
  {
   "cell_type": "markdown",
   "id": "83c19d47",
   "metadata": {},
   "source": [
    "On distingue trois familles de conteneurs standards :\n",
    "<ol>\n",
    "    <li> Les séquences, qui sont des conteneurs <strong>ordonnés</strong> contenant des éléments <strong>indicés par des entiers</strong> : \n",
    "        Types <em>str</em>, <em>list</em>, <em>tuple</em>, et le type <em>range</em> qu'on a déjà utilisé dans les boucles.</li>\n",
    "    <li>Les dictionnaires (type <em>dict</em>), qui sont <strong>indicés par des clés</strong>, contenant des couples (clé,valeur).</li>\n",
    "    <li>Les ensembles, qui ne stockent que des clés.</li>\n",
    "<ol/>"
   ]
  },
  {
   "cell_type": "markdown",
   "id": "dcabdcff",
   "metadata": {},
   "source": [
    "## 5.1 Type *list*"
   ]
  },
  {
   "cell_type": "markdown",
   "id": "ee572415",
   "metadata": {},
   "source": [
    "### Syntaxe"
   ]
  },
  {
   "cell_type": "markdown",
   "id": "a981e869",
   "metadata": {},
   "source": [
    "Une liste est une collection ordonnée d'éléments quelconques, séparés par des virgules et entourés de crochets."
   ]
  },
  {
   "cell_type": "markdown",
   "id": "7d20dd76",
   "metadata": {},
   "source": [
    "#### Façon 1 : syntaxe standard"
   ]
  },
  {
   "cell_type": "code",
   "execution_count": 2,
   "id": "c8190132",
   "metadata": {},
   "outputs": [
    {
     "name": "stdout",
     "output_type": "stream",
     "text": [
      "['Hello', 45.7, [5, 'Hi!'], True, <function <lambda> at 0x7fe289092170>]\n"
     ]
    }
   ],
   "source": [
    "x=[\"Hello\",45.7,[5,\"Hi!\"],True,lambda x: np.exp(x+3)]     # Liste contenant un string, un float, une autre liste, un booléen, et une fonction\n",
    "print(x)"
   ]
  },
  {
   "cell_type": "markdown",
   "id": "8dd72d95",
   "metadata": {},
   "source": [
    "#### Façon 2 : à partir d'une séquence (range, tuple, ...)"
   ]
  },
  {
   "cell_type": "code",
   "execution_count": 3,
   "id": "9361e7bd",
   "metadata": {},
   "outputs": [
    {
     "name": "stdout",
     "output_type": "stream",
     "text": [
      "[0, 1, 2, 3, 4]\n"
     ]
    }
   ],
   "source": [
    "x=list(range(5))        # range transformé en liste\n",
    "print(x)"
   ]
  },
  {
   "cell_type": "markdown",
   "id": "8f2885c9",
   "metadata": {},
   "source": [
    "#### Façon 3 : par compréhension"
   ]
  },
  {
   "cell_type": "code",
   "execution_count": 4,
   "id": "7e57209c",
   "metadata": {},
   "outputs": [
    {
     "name": "stdout",
     "output_type": "stream",
     "text": [
      "[1, 3, 5, 7, 9, 11, 13]\n"
     ]
    }
   ],
   "source": [
    "liste=[2*x+1 for x in range(7)]\n",
    "print(liste)"
   ]
  },
  {
   "cell_type": "code",
   "execution_count": 5,
   "id": "db259b0d",
   "metadata": {},
   "outputs": [
    {
     "name": "stdout",
     "output_type": "stream",
     "text": [
      "['apple', 'banana', 'mango']\n"
     ]
    }
   ],
   "source": [
    "fruits=[\"apple\", \"banana\", \"cherry\", \"kiwi\", \"mango\"]\n",
    "newlist=[x for x in fruits if \"a\" in x]                 # liste avec les fruits contenant \"a\"\n",
    "print(newlist)"
   ]
  },
  {
   "cell_type": "code",
   "execution_count": 6,
   "id": "c5b055a3",
   "metadata": {},
   "outputs": [
    {
     "name": "stdout",
     "output_type": "stream",
     "text": [
      "['apple', 'orange', 'cherry', 'kiwi', 'mango']\n"
     ]
    }
   ],
   "source": [
    "fruits=[\"apple\", \"banana\", \"cherry\", \"kiwi\", \"mango\"]\n",
    "newlist=[x if x != \"banana\" else \"orange\" for x in fruits]  # orange à la place de banane, inchangé pour les autres\n",
    "print(newlist)"
   ]
  },
  {
   "cell_type": "markdown",
   "id": "2e7cfd69",
   "metadata": {},
   "source": [
    "### Opérations, méthodes et fonctions communes pour les types str, list et tuple"
   ]
  },
  {
   "cell_type": "markdown",
   "id": "b1b3feaf",
   "metadata": {},
   "source": [
    "Rappelons le premier tableau de la section 3.8 du chapitre 3 qui résume les opérations, fonctions et méthodes usuelles pour les types str, list et tuple. Certaines ont illustrées ci-dessous. "
   ]
  },
  {
   "cell_type": "markdown",
   "id": "9131c437",
   "metadata": {},
   "source": [
    "|Opération/Fonction/Méthode|Signification|\n",
    "|:-|:-|\n",
    "|`x in s`|`True`si contient x, `False` sinon|\n",
    "|`x not in s`|`True`si ne contient pas x, `False` sinon|\n",
    "|`s+t`|concaténation de s et t|\n",
    "|`n*s`|n copies concaténées de s|\n",
    "|`s[i]`|i<sup>ème</sup> élément de s, à partir de 0|\n",
    "|`s[i:j]`|tranche de s de l'indice i (inclus) à l'indice j (exclu)|\n",
    "|`s[i:j:k]`|idem avec un pas de k|\n",
    "|`s[:i]`|tranche de s du début jusqu'à l'indice i (exclu)|\n",
    "|`s[i:]`|tranche de s de l'indice i (inclus) jusqu'à la fin|\n",
    "|`s[::k]`|partie de s dont on a pris 1 élément sur k sur tout s|\n",
    "|`len(s)`|nombre d'éléments de s|\n",
    "|`max(s)`|plus grand élément de s|\n",
    "|`min(s)`|plus petit élément de s|\n",
    "|`s.index(x)`|indice de la 1<sup>ère</sup> occurence de x dans s. Renvoie une erreur si x non trouvé.|\n",
    "|`s.count(x)`|nombre d'occurence de x dans s|"
   ]
  },
  {
   "cell_type": "code",
   "execution_count": 7,
   "id": "8d37f853",
   "metadata": {},
   "outputs": [],
   "source": [
    "x=[\"Hello\",45.7,[5,\"Hi!\"],True,lambda x: np.exp(x+3)]     # Liste contenant un string, un float, une autre liste, un booléen, et une fonction"
   ]
  },
  {
   "cell_type": "code",
   "execution_count": 8,
   "id": "11b48285",
   "metadata": {},
   "outputs": [
    {
     "name": "stdout",
     "output_type": "stream",
     "text": [
      "Hello\n",
      "<function <lambda> at 0x7fe2890930a0>\n",
      "Hi!\n"
     ]
    }
   ],
   "source": [
    "print(x[0])     # premier élement\n",
    "print(x[-1])    # dernier élément\n",
    "print(x[2][1])  # Accès au deuxième élément de la liste imbriquée"
   ]
  },
  {
   "cell_type": "code",
   "execution_count": 9,
   "id": "c30ed230",
   "metadata": {},
   "outputs": [
    {
     "name": "stdout",
     "output_type": "stream",
     "text": [
      "[]\n"
     ]
    }
   ],
   "source": [
    "y=[]         # liste vide\n",
    "print(y)    "
   ]
  },
  {
   "cell_type": "code",
   "execution_count": 10,
   "id": "740f6640",
   "metadata": {},
   "outputs": [
    {
     "name": "stdout",
     "output_type": "stream",
     "text": [
      "[0, 1, 2, 3, 4]\n",
      "True False True\n",
      "5\n",
      "4\n"
     ]
    }
   ],
   "source": [
    "liste=list(range(5))       \n",
    "print(liste)\n",
    "print(3 in liste, 8 in liste, 7 not in liste)\n",
    "print(len(liste))\n",
    "print(max(liste))"
   ]
  },
  {
   "cell_type": "code",
   "execution_count": 11,
   "id": "0a66854f",
   "metadata": {},
   "outputs": [
    {
     "name": "stdout",
     "output_type": "stream",
     "text": [
      "[8, 4, 9, 3, 7, 0]\n",
      "[8, 4, 9, 8, 4, 9, 8, 4, 9, 8, 4, 9, 8, 4, 9, 8, 4, 9, 8, 4, 9, 8, 4, 9, 8, 4, 9, 8, 4, 9]\n",
      "1\n"
     ]
    }
   ],
   "source": [
    "liste1=[8,4,9]\n",
    "liste2=[3,7,0]\n",
    "print(liste1+liste2)\n",
    "print(10*liste1)\n",
    "print(liste1.index(4))"
   ]
  },
  {
   "cell_type": "markdown",
   "id": "51f1fa35",
   "metadata": {},
   "source": [
    "### Opérations et méthodes propres aux listes"
   ]
  },
  {
   "cell_type": "markdown",
   "id": "ddc5bb84",
   "metadata": {},
   "source": [
    "`lst` est une liste, i, j et k des entiers, et `seq` une séquence.<br/>\n",
    "Pour une liste exhaustive des *méthodes* du type *list*, voir https://www.w3schools.com/python/python_lists_methods.asp"
   ]
  },
  {
   "cell_type": "markdown",
   "id": "5c2304c9",
   "metadata": {},
   "source": [
    "|Méthode|Signification|\n",
    "|:-|:-|\n",
    "|`lst[i]=x`|remplacement du i<sup>ème</sup> élément par `x`|\n",
    "|`lst[i:j:k]=seq`|remplacement par seq des items situés de l'indice i à l'indice j (non compris), par pas k. La suite de la liste est décalée|\n",
    "|`lst.append(x)`|Ajout de l'élément x en fin de liste|\n",
    "|`lst.extend(x)`|Ajout des éléments de `seq` en fin de liste|\n",
    "|`lst+=seq`|Idem|\n",
    "|`del lst[i:j:k]`|Supression des items de l'indice i à l'indice j (non compris), par pas k|\n",
    "|`lst.remove(x)`|Suppression du premier élément de valeur x|\n",
    "|`lst.clear()`|Suppression de tous les éléments de la liste|\n",
    "|`lst.sort()`|Tri par ordre croissant de valeurs comparables, comme des nombres ou du texte|\n",
    "|`lst.sort(reverse=True)`|Idem mais par ordre décroissant|\n",
    "|`lst.reverse()`|Inversion de l'ordre des valeurs de la liste|\n",
    "|`sum(lst)`|Somme de valeurs de la liste, qui doivent toutes être numériques|"
   ]
  },
  {
   "cell_type": "markdown",
   "id": "8502c661",
   "metadata": {},
   "source": [
    "#### Classer par ordre : sort"
   ]
  },
  {
   "cell_type": "markdown",
   "id": "4e4e0ccb",
   "metadata": {},
   "source": [
    "Avec des valeurs numériques, la méthode *sort* les classe par ordre croissant ou décroissant :"
   ]
  },
  {
   "cell_type": "code",
   "execution_count": 12,
   "id": "9e33fbef",
   "metadata": {},
   "outputs": [
    {
     "name": "stdout",
     "output_type": "stream",
     "text": [
      "[3.141592653589793, 10, 17, 25, 38, 73]\n",
      "[73, 38, 25, 17, 10, 3.141592653589793]\n"
     ]
    }
   ],
   "source": [
    "nombres=[17,38,10,25,73,np.pi]\n",
    "nombres.sort()\n",
    "print(nombres)\n",
    "nombres.sort(reverse=True)\n",
    "print(nombres)"
   ]
  },
  {
   "cell_type": "markdown",
   "id": "4504d7b1",
   "metadata": {},
   "source": [
    "Avec des valeurs str, elle les classe par ordre alphabétique ou antialphabétique :"
   ]
  },
  {
   "cell_type": "code",
   "execution_count": 13,
   "id": "d7131709",
   "metadata": {},
   "outputs": [
    {
     "name": "stdout",
     "output_type": "stream",
     "text": [
      "['BMW', 'Ford', 'Volvo']\n"
     ]
    }
   ],
   "source": [
    "cars=['Ford','BMW','Volvo']\n",
    "cars.sort()\n",
    "print(cars)"
   ]
  },
  {
   "cell_type": "markdown",
   "id": "3c7ebb0f",
   "metadata": {},
   "source": [
    "Cela ne fonctionne que si la liste est homogène :"
   ]
  },
  {
   "cell_type": "code",
   "execution_count": 14,
   "id": "97108726",
   "metadata": {},
   "outputs": [
    {
     "ename": "TypeError",
     "evalue": "'<' not supported between instances of 'float' and 'str'",
     "output_type": "error",
     "traceback": [
      "\u001b[0;31m---------------------------------------------------------------------------\u001b[0m",
      "\u001b[0;31mTypeError\u001b[0m                                 Traceback (most recent call last)",
      "Cell \u001b[0;32mIn[14], line 2\u001b[0m\n\u001b[1;32m      1\u001b[0m x\u001b[38;5;241m=\u001b[39m[\u001b[38;5;124m\"\u001b[39m\u001b[38;5;124mHello\u001b[39m\u001b[38;5;124m\"\u001b[39m,\u001b[38;5;241m45.7\u001b[39m,\u001b[38;5;241m8\u001b[39m] \n\u001b[0;32m----> 2\u001b[0m \u001b[43mx\u001b[49m\u001b[38;5;241;43m.\u001b[39;49m\u001b[43msort\u001b[49m\u001b[43m(\u001b[49m\u001b[43m)\u001b[49m\n",
      "\u001b[0;31mTypeError\u001b[0m: '<' not supported between instances of 'float' and 'str'"
     ]
    }
   ],
   "source": [
    "x=[\"Hello\",45.7,8] \n",
    "x.sort()"
   ]
  },
  {
   "cell_type": "markdown",
   "id": "3e61ce60",
   "metadata": {},
   "source": [
    "#### Ajout ou suppression d'éléments : append, extend, remove, del et clear"
   ]
  },
  {
   "cell_type": "code",
   "execution_count": 15,
   "id": "608df94a",
   "metadata": {},
   "outputs": [
    {
     "name": "stdout",
     "output_type": "stream",
     "text": [
      "[17, 38, 'Hey', 25, True]\n",
      "[17, 38, 'Hey', 25, True, 45]\n",
      "[17, 38, 'Hey', 25, True, 45, 4, 78, False]\n",
      "[17, 38, 'Hey', 25, True, 45, 4, 78, False, 1, 2, 3]\n",
      "[17, 38, 'Hey', 25, 45, 4, 78, False, 1, 2, 3]\n",
      "[38, 25, 45, 4, 78, False, 1, 2]\n",
      "[38, 25, 45, 2]\n",
      "[]\n"
     ]
    }
   ],
   "source": [
    "liste=[17,38,\"Hey\",25,True]\n",
    "print(liste)\n",
    "liste.append(45)                                     # Ajout d'un élément à la fin\n",
    "print(liste)\n",
    "liste.extend([4,78,False])                           # Ajout de plusieurs éléments à la fin\n",
    "print(liste)\n",
    "liste+=[1,2,3]                                       # idem que extend\n",
    "print(liste)\n",
    "liste.remove(True)                                   # Suppression d'un élément (un seul)\n",
    "print(liste)\n",
    "[liste.remove(item) for item in ['Hey',17,3]]        # Suppression de plusieurs éléments\n",
    "print(liste)\n",
    "del liste[3:7]                                       # Suppression de plusieurs éléments selon leurs indices\n",
    "print(liste)\n",
    "liste.clear()                                        # Suppression de tous les éléments de la liste\n",
    "print(liste)"
   ]
  },
  {
   "cell_type": "markdown",
   "id": "cdebd9a0",
   "metadata": {},
   "source": [
    "#### Suppression, remplacement et insertion par *slices*"
   ]
  },
  {
   "cell_type": "code",
   "execution_count": 16,
   "id": "6f2d3f15",
   "metadata": {},
   "outputs": [
    {
     "name": "stdout",
     "output_type": "stream",
     "text": [
      "['math', 'mécanique', 'chimie', 'biologie', 'météorologie']\n",
      "['math', 'mécanique', 'météorologie']\n",
      "['math', 'thermodynamique']\n",
      "['math', 'histoire', 'géographie', 'statistique']\n",
      "['math', 'histoire', 'programmation', 'géographie', 'statistique']\n",
      "['math', 'histoire', 'anglais', 'géographie', 'statistique']\n",
      "['None', 'histoire', 'None', 'géographie', 'None']\n"
     ]
    }
   ],
   "source": [
    "cours=[\"math\",\"mécanique\",\"chimie\",\"biologie\",\"météorologie\"]\n",
    "print(cours)\n",
    "cours[2:4]=[]                              # suppression par affectation d'une liste vide\n",
    "print(cours)\n",
    "cours[1:3]=[\"thermodynamique\"]            # remplacement (rappel : 1:3 signifie de l'indice 1 à 3 non compris)\n",
    "print(cours)\n",
    "cours[1:]=[\"histoire\",\"géographie\",\"statistique\"]       # remplacement\n",
    "print(cours)\n",
    "cours[2:2]=[\"programmation\"]                            # insertion en 3ème position\n",
    "print(cours)\n",
    "cours[2]=\"anglais\"                                   # remplacement du troisième élément\n",
    "print(cours)\n",
    "cours[::2]=[\"None\"]*3\n",
    "print(cours)"
   ]
  },
  {
   "cell_type": "markdown",
   "id": "2275c3c5",
   "metadata": {},
   "source": [
    "## 5.2 Type *tuple*"
   ]
  },
  {
   "cell_type": "markdown",
   "id": "1fb5644f",
   "metadata": {},
   "source": [
    "### Syntaxe"
   ]
  },
  {
   "cell_type": "markdown",
   "id": "e5b4f83c",
   "metadata": {},
   "source": [
    "Un tuple est une collection ordonnée d'éléments quelconques, séparés par des virgules et optionnellement entourés de parenthèses. Un tuple ne comportant qu'un seul élément (singleton) soit obligatoirement comporter une virgule terminale."
   ]
  },
  {
   "cell_type": "markdown",
   "id": "21a15aa9",
   "metadata": {},
   "source": [
    "On se référera au premier tableau ci-dessus pour les opérations, fonctions et méthodes usuelles communes avec les types str et list. Certaines ont illustrées ci-dessous. Le type *tuple* ne comporte pas d'autres méthode que celles contenues dans ce tableau (à savoir *index* et *count*). "
   ]
  },
  {
   "cell_type": "code",
   "execution_count": 17,
   "id": "1fe63c95",
   "metadata": {},
   "outputs": [
    {
     "name": "stdout",
     "output_type": "stream",
     "text": [
      "('a', 2, [15, 8, 9], (<function <lambda> at 0x7fe28c38ef80>, 8, 5))\n",
      "8\n"
     ]
    }
   ],
   "source": [
    "mytpl=(\"a\",2,[15,8,9],(lambda x: 3*x-7,8,5))    # tuple contenant un str, un int, une liste, et un autre tuple\n",
    "print(mytpl)\n",
    "print(mytpl[3][0](5))         # évaluation de la fonction 3x-7 en x=5"
   ]
  },
  {
   "cell_type": "code",
   "execution_count": 18,
   "id": "3519ceed",
   "metadata": {},
   "outputs": [
    {
     "name": "stdout",
     "output_type": "stream",
     "text": [
      "('un', 'deux', 'trois')\n"
     ]
    }
   ],
   "source": [
    "mytpl='un','deux','trois'    # les parenthèses sont optionnelles\n",
    "print(mytpl)"
   ]
  },
  {
   "cell_type": "code",
   "execution_count": 19,
   "id": "bc0d53b3",
   "metadata": {},
   "outputs": [
    {
     "name": "stdout",
     "output_type": "stream",
     "text": [
      "(2.7,)\n"
     ]
    }
   ],
   "source": [
    "mytpl=2.7,           # singleton\n",
    "print(mytpl)"
   ]
  },
  {
   "cell_type": "code",
   "execution_count": 20,
   "id": "9f5df4b0",
   "metadata": {},
   "outputs": [
    {
     "name": "stdout",
     "output_type": "stream",
     "text": [
      "()\n"
     ]
    }
   ],
   "source": [
    "mytpl=()          # tuple vide\n",
    "print(mytpl)"
   ]
  },
  {
   "cell_type": "code",
   "execution_count": 21,
   "id": "0a410198",
   "metadata": {},
   "outputs": [
    {
     "name": "stdout",
     "output_type": "stream",
     "text": [
      "(0, 1, 2, 3, 4)\n",
      "5\n",
      "4\n",
      "1\n",
      "0\n"
     ]
    }
   ],
   "source": [
    "tpl=tuple(range(5))        # range transformé en tuple\n",
    "print(tpl)\n",
    "print(len(tpl))\n",
    "print(max(tpl))\n",
    "print(tpl.count(2))\n",
    "print(tpl.count(-2))"
   ]
  },
  {
   "cell_type": "markdown",
   "id": "6ba4cf93",
   "metadata": {},
   "source": [
    "### Séquence mutable versus immutable"
   ]
  },
  {
   "cell_type": "markdown",
   "id": "aba97de5",
   "metadata": {},
   "source": [
    "Une liste est une séquence *mutable*, c-à-d modifiable, tandis que les tuples et les chaines de caractères (str) sont *immutables*. Les dictionnaires, que nous allons voir dans la suite, sont mutables. Quelques exemples :"
   ]
  },
  {
   "cell_type": "code",
   "execution_count": 22,
   "id": "a74116e7",
   "metadata": {},
   "outputs": [
    {
     "name": "stdout",
     "output_type": "stream",
     "text": [
      "[3, 4, 5, 6]\n",
      "[3, 4, 9, 6]\n"
     ]
    }
   ],
   "source": [
    "lst=[3,4,5,6]\n",
    "print(lst)\n",
    "lst[2]=9\n",
    "print(lst)"
   ]
  },
  {
   "cell_type": "code",
   "execution_count": 23,
   "id": "06896074",
   "metadata": {},
   "outputs": [
    {
     "name": "stdout",
     "output_type": "stream",
     "text": [
      "c\n"
     ]
    },
    {
     "ename": "TypeError",
     "evalue": "'str' object does not support item assignment",
     "output_type": "error",
     "traceback": [
      "\u001b[0;31m---------------------------------------------------------------------------\u001b[0m",
      "\u001b[0;31mTypeError\u001b[0m                                 Traceback (most recent call last)",
      "Cell \u001b[0;32mIn[23], line 3\u001b[0m\n\u001b[1;32m      1\u001b[0m mystr\u001b[38;5;241m=\u001b[39m\u001b[38;5;124m\"\u001b[39m\u001b[38;5;124mabcdefgh\u001b[39m\u001b[38;5;124m\"\u001b[39m\n\u001b[1;32m      2\u001b[0m \u001b[38;5;28mprint\u001b[39m(mystr[\u001b[38;5;241m2\u001b[39m])\n\u001b[0;32m----> 3\u001b[0m mystr[\u001b[38;5;241m2\u001b[39m]\u001b[38;5;241m=\u001b[39m\u001b[38;5;124m\"\u001b[39m\u001b[38;5;124mk\u001b[39m\u001b[38;5;124m\"\u001b[39m\n",
      "\u001b[0;31mTypeError\u001b[0m: 'str' object does not support item assignment"
     ]
    }
   ],
   "source": [
    "mystr=\"abcdefgh\"\n",
    "print(mystr[2])\n",
    "mystr[2]=\"k\"      # Erreur car on ne peut modifier"
   ]
  },
  {
   "cell_type": "code",
   "execution_count": 24,
   "id": "8bc2a54b",
   "metadata": {},
   "outputs": [
    {
     "ename": "TypeError",
     "evalue": "'tuple' object does not support item assignment",
     "output_type": "error",
     "traceback": [
      "\u001b[0;31m---------------------------------------------------------------------------\u001b[0m",
      "\u001b[0;31mTypeError\u001b[0m                                 Traceback (most recent call last)",
      "Cell \u001b[0;32mIn[24], line 2\u001b[0m\n\u001b[1;32m      1\u001b[0m mytupl\u001b[38;5;241m=\u001b[39m(\u001b[38;5;241m4\u001b[39m,\u001b[38;5;241m5\u001b[39m,\u001b[38;5;241m8\u001b[39m,\u001b[38;5;124m\"\u001b[39m\u001b[38;5;124mHi\u001b[39m\u001b[38;5;124m\"\u001b[39m)\n\u001b[0;32m----> 2\u001b[0m mytupl[\u001b[38;5;241m1\u001b[39m]\u001b[38;5;241m=\u001b[39m\u001b[38;5;241m78\u001b[39m\n",
      "\u001b[0;31mTypeError\u001b[0m: 'tuple' object does not support item assignment"
     ]
    }
   ],
   "source": [
    "mytupl=(4,5,8,\"Hi\")\n",
    "mytupl[1]=78"
   ]
  },
  {
   "cell_type": "markdown",
   "id": "38d9750f",
   "metadata": {},
   "source": [
    "## 5.3 Type *dict*"
   ]
  },
  {
   "cell_type": "markdown",
   "id": "d329025f",
   "metadata": {},
   "source": [
    "### Syntaxe"
   ]
  },
  {
   "cell_type": "markdown",
   "id": "ce9a90cb",
   "metadata": {},
   "source": [
    "Un dictionnaire est une collection non-ordonnée d'éléments de type `clé : valeur`, séparés par des virgules et entourés d'accolades. Une clé peut être de type int, float, str ou tuple. Une valeur peut être de tout type. "
   ]
  },
  {
   "cell_type": "markdown",
   "id": "b1ceae16",
   "metadata": {},
   "source": [
    "#### Façon 1 : Syntaxe standard"
   ]
  },
  {
   "cell_type": "code",
   "execution_count": 25,
   "id": "87a4cb58",
   "metadata": {},
   "outputs": [
    {
     "name": "stdout",
     "output_type": "stream",
     "text": [
      "3\n",
      "{'Pull': 3, 'Jeans': 5, 'Pantalon': 7, 'Bonnet': 2}\n"
     ]
    }
   ],
   "source": [
    "Achats={'Pull':3,'Jeans':5,'Pantalon':7,'Bonnet':2}  # dictionnaire avec 4 couples clé-valeur de type str-int\n",
    "print(Achats['Pull'])\n",
    "print(Achats)"
   ]
  },
  {
   "cell_type": "code",
   "execution_count": 26,
   "id": "9a4a55d7",
   "metadata": {},
   "outputs": [],
   "source": [
    "del Achats      # suppression"
   ]
  },
  {
   "cell_type": "markdown",
   "id": "db608d85",
   "metadata": {},
   "source": [
    "On peut créer un dictionnaire de 3 autres façons : "
   ]
  },
  {
   "cell_type": "markdown",
   "id": "8b363aee",
   "metadata": {},
   "source": [
    "#### Façon 2 : à partir d'un dictionnaire vide"
   ]
  },
  {
   "cell_type": "code",
   "execution_count": 27,
   "id": "0c5d9fe6",
   "metadata": {},
   "outputs": [
    {
     "name": "stdout",
     "output_type": "stream",
     "text": [
      "{'Pull': 3, 'Jeans': 5, 'Pantalon': 7, 'Bonnet': 2}\n"
     ]
    }
   ],
   "source": [
    "Achats={}                            # dictionnaire vide ; autre façon : tel=dict()\n",
    "Achats['Pull']=3\n",
    "Achats['Jeans']=5\n",
    "Achats['Pantalon']=7\n",
    "Achats['Bonnet']=2\n",
    "print(Achats)"
   ]
  },
  {
   "cell_type": "code",
   "execution_count": 28,
   "id": "59ee0623",
   "metadata": {},
   "outputs": [],
   "source": [
    "del Achats"
   ]
  },
  {
   "cell_type": "markdown",
   "id": "c33cd475",
   "metadata": {},
   "source": [
    "#### Façon 3 : appel à la ***fonction*** `dict`, avec paramètres nommés"
   ]
  },
  {
   "cell_type": "code",
   "execution_count": 29,
   "id": "4c940800",
   "metadata": {},
   "outputs": [
    {
     "name": "stdout",
     "output_type": "stream",
     "text": [
      "{'Pull': 3, 'Jeans': 5, 'Pantalon': 7, 'Bonnet': 2}\n"
     ]
    }
   ],
   "source": [
    "Achats=dict(Pull=3,Jeans=5,Pantalon=7,Bonnet=2)    \n",
    "print(Achats)"
   ]
  },
  {
   "cell_type": "code",
   "execution_count": 30,
   "id": "0769f082",
   "metadata": {},
   "outputs": [],
   "source": [
    "del Achats"
   ]
  },
  {
   "cell_type": "markdown",
   "id": "47a48019",
   "metadata": {},
   "source": [
    "#### Façon 4 : appel à la ***fonction*** `dict`, qui prend une séquence de paires (clé,valeur) en input"
   ]
  },
  {
   "cell_type": "code",
   "execution_count": 31,
   "id": "99479ccc",
   "metadata": {},
   "outputs": [
    {
     "name": "stdout",
     "output_type": "stream",
     "text": [
      "{'Pull': 3, 'Jeans': 5, 'Pantalon': 7, 'Bonnet': 2}\n"
     ]
    }
   ],
   "source": [
    "Achats=dict([('Pull',3),('Jeans',5),('Pantalon',7),('Bonnet',2)])  # liste de tuples\n",
    "print(Achats)\n",
    "del Achats"
   ]
  },
  {
   "cell_type": "code",
   "execution_count": 32,
   "id": "856a9d08",
   "metadata": {},
   "outputs": [
    {
     "name": "stdout",
     "output_type": "stream",
     "text": [
      "{'Pull': 3, 'Jeans': 5, 'Pantalon': 7, 'Bonnet': 2}\n"
     ]
    }
   ],
   "source": [
    "Achats=dict([['Pull',3],['Jeans',5],['Pantalon',7],['Bonnet',2]])  # liste de listes\n",
    "print(Achats)\n",
    "del Achats"
   ]
  },
  {
   "cell_type": "code",
   "execution_count": 33,
   "id": "6204ae09",
   "metadata": {},
   "outputs": [
    {
     "name": "stdout",
     "output_type": "stream",
     "text": [
      "{'Pull': 3, 'Jeans': 5, 'Pantalon': 7, 'Bonnet': 2}\n"
     ]
    }
   ],
   "source": [
    "Achats=dict((['Pull',3],['Jeans',5],['Pantalon',7],['Bonnet',2]))  # tuple de listes\n",
    "print(Achats)\n",
    "del Achats"
   ]
  },
  {
   "cell_type": "code",
   "execution_count": 34,
   "id": "52ddde85",
   "metadata": {},
   "outputs": [
    {
     "name": "stdout",
     "output_type": "stream",
     "text": [
      "{'Pull': 3, 'Jeans': 5, 'Pantalon': 7, 'Bonnet': 2}\n"
     ]
    }
   ],
   "source": [
    "Achats=dict((('Pull',3),('Jeans',5),('Pantalon',7),('Bonnet',2)))  # tuple de tuples\n",
    "print(Achats)\n",
    "del Achats"
   ]
  },
  {
   "cell_type": "markdown",
   "id": "14f3ac9e",
   "metadata": {},
   "source": [
    "### Fonctions, opérations et méthodes applicables aux dictionnaires"
   ]
  },
  {
   "cell_type": "markdown",
   "id": "42fbb61d",
   "metadata": {},
   "source": [
    "`d` est un dictionnaire.<br/>\n",
    "Pour une liste exhaustive des *méthodes* du type *dict*, voir https://www.w3schools.com/python/python_ref_dictionary.asp"
   ]
  },
  {
   "cell_type": "markdown",
   "id": "3ed112ce",
   "metadata": {},
   "source": [
    "|Fonction, opération ou méthode|Signification|\n",
    "|:-|:-|\n",
    "|`len(d)`|nombre de paires clé-valeur du dictionnaire|\n",
    "|`d[clé]=valeur`|Ajout d'une paire clé-valeur. Si cette clé exsite déjà, elle est associée à cette nouvelle valeur|\n",
    "|`d.update(d2)`|Ajout du dictionnaire d2 à d. Les clés déjà présentes sont mises à jour avec les nouvelles valeurs.|\n",
    "|`del d[clé]`|Suppression de la paire clé-valeur pour cette clé|\n",
    "|`d.clear()`|Suppression de toutes les paires clé-valeur => dictionnaire vide|\n",
    "|`clé in d`|`True`si d contient cette clé|\n",
    "|`clé not in d`|`True`si d ne contient pas cette clé|\n",
    "|`d.keys()`|retourne une vue itérable sur les clés de d|\n",
    "|`d.values()`|retourne une vue itérable sur les valeurs de d|\n",
    "|`d.items()`|retourne une vue itérable sur les paires clé-valeur de d|"
   ]
  },
  {
   "cell_type": "markdown",
   "id": "eaf8998b",
   "metadata": {},
   "source": [
    "#### Voyager dans les clés et les valeurs, et test d'appartenance"
   ]
  },
  {
   "cell_type": "code",
   "execution_count": 35,
   "id": "e93a54ed",
   "metadata": {},
   "outputs": [],
   "source": [
    "Achats={'Pull':3,'Jeans':5,'Pantalon':7,'Bonnet':2}"
   ]
  },
  {
   "cell_type": "code",
   "execution_count": 36,
   "id": "8e807006",
   "metadata": {},
   "outputs": [
    {
     "name": "stdout",
     "output_type": "stream",
     "text": [
      "dict_keys(['Pull', 'Jeans', 'Pantalon', 'Bonnet'])\n",
      "dict_values([3, 5, 7, 2])\n",
      "['Pull', 'Jeans', 'Pantalon', 'Bonnet']\n",
      "['Jeans', 'Pantalon']\n"
     ]
    }
   ],
   "source": [
    "cles=Achats.keys()\n",
    "valeurs=Achats.values()\n",
    "print(cles)\n",
    "print(valeurs)\n",
    "# On peut itérer sur ces variables, en les transformant en liste :\n",
    "cles=list(cles)\n",
    "print(cles)\n",
    "print(cles[1:3])"
   ]
  },
  {
   "cell_type": "code",
   "execution_count": 37,
   "id": "35cc1929",
   "metadata": {},
   "outputs": [
    {
     "name": "stdout",
     "output_type": "stream",
     "text": [
      "dict_items([('Pull', 3), ('Jeans', 5), ('Pantalon', 7), ('Bonnet', 2)])\n",
      "<class 'tuple'>\n",
      "[('Jeans', 5), ('Pantalon', 7)]\n",
      "5\n"
     ]
    }
   ],
   "source": [
    "items=Achats.items()\n",
    "print(items)\n",
    "items=list(items)\n",
    "print(type(items[0]))     # les couples clés-valeurs dans la liste sont des tuples\n",
    "print(items[1:3])\n",
    "print(items[1][1])"
   ]
  },
  {
   "cell_type": "code",
   "execution_count": 38,
   "id": "7f4941d0",
   "metadata": {},
   "outputs": [
    {
     "name": "stdout",
     "output_type": "stream",
     "text": [
      "Pull\n",
      "Jeans\n",
      "Pantalon\n",
      "Bonnet\n"
     ]
    }
   ],
   "source": [
    "for k in Achats:\n",
    "    print(k)"
   ]
  },
  {
   "cell_type": "code",
   "execution_count": 39,
   "id": "60dfe759",
   "metadata": {},
   "outputs": [
    {
     "name": "stdout",
     "output_type": "stream",
     "text": [
      "Pull 3\n",
      "Jeans 5\n",
      "Pantalon 7\n",
      "Bonnet 2\n"
     ]
    }
   ],
   "source": [
    "for k,v in Achats.items():\n",
    "    print(k,v)"
   ]
  },
  {
   "cell_type": "code",
   "execution_count": 40,
   "id": "af64e6a8",
   "metadata": {},
   "outputs": [
    {
     "name": "stdout",
     "output_type": "stream",
     "text": [
      "3\n",
      "5\n",
      "7\n",
      "2\n"
     ]
    }
   ],
   "source": [
    "for v in Achats.values():\n",
    "    print(v)"
   ]
  },
  {
   "cell_type": "code",
   "execution_count": 41,
   "id": "5292c60b",
   "metadata": {},
   "outputs": [
    {
     "data": {
      "text/plain": [
       "(True, False, False, False)"
      ]
     },
     "execution_count": 41,
     "metadata": {},
     "output_type": "execute_result"
    }
   ],
   "source": [
    "# Test d'appartenance de clés\n",
    "'Bonnet' in Achats, 'Jeans' not in Achats, 'Robe' in Achats, 7 in Achats    "
   ]
  },
  {
   "cell_type": "markdown",
   "id": "202a8065",
   "metadata": {},
   "source": [
    "#### Ajout ou suppression d'éléments"
   ]
  },
  {
   "cell_type": "code",
   "execution_count": 42,
   "id": "b6c0ccdc",
   "metadata": {},
   "outputs": [],
   "source": [
    "Achats={'Pull':3,'Jeans':5,'Pantalon':7,'Bonnet':2}"
   ]
  },
  {
   "cell_type": "code",
   "execution_count": 43,
   "id": "0bc107e3",
   "metadata": {},
   "outputs": [
    {
     "name": "stdout",
     "output_type": "stream",
     "text": [
      "4\n",
      "3\n",
      "{'Pull': 3, 'Pantalon': 7, 'Bonnet': 2}\n"
     ]
    }
   ],
   "source": [
    "print(len(Achats))\n",
    "del Achats['Jeans']\n",
    "print(len(Achats))\n",
    "print(Achats)"
   ]
  },
  {
   "cell_type": "code",
   "execution_count": 44,
   "id": "7c695e10",
   "metadata": {},
   "outputs": [
    {
     "name": "stdout",
     "output_type": "stream",
     "text": [
      "{'Pull': 3, 'Pantalon': 7, 'Bonnet': 2, 'Robe': 6}\n"
     ]
    }
   ],
   "source": [
    "Achats['Robe']=6\n",
    "print(Achats)"
   ]
  },
  {
   "cell_type": "code",
   "execution_count": 45,
   "id": "129c72e0",
   "metadata": {},
   "outputs": [
    {
     "name": "stdout",
     "output_type": "stream",
     "text": [
      "{'Pull': 3, 'Pantalon': 7, 'Bonnet': 2, 'Robe': 6, 'Gants': 9, 'Ceinture': 3, 'Baskets': 4}\n"
     ]
    }
   ],
   "source": [
    "Nouveaux_achats=dict(Gants=9,Ceinture=3,Baskets=4)\n",
    "Achats.update(Nouveaux_achats)\n",
    "print(Achats)"
   ]
  },
  {
   "cell_type": "code",
   "execution_count": 46,
   "id": "adf60e39",
   "metadata": {},
   "outputs": [
    {
     "name": "stdout",
     "output_type": "stream",
     "text": [
      "{}\n"
     ]
    }
   ],
   "source": [
    "Achats.clear()       # => dict vide\n",
    "print(Achats)"
   ]
  },
  {
   "cell_type": "markdown",
   "id": "c43c2960",
   "metadata": {},
   "source": [
    "## 5.4 Copie d'un objet de type mutable"
   ]
  },
  {
   "cell_type": "markdown",
   "id": "51ac5fd5",
   "metadata": {},
   "source": [
    "Les listes et dictionnaires (ainsi que les ensembles mutables) sont des conteneurs standards mutables. Lorsqu'une variable de ce type dépend d'autres variables, une modification impacte **toutes** les variables liées par affectation. Si on veut éviter cela, il faut créer des **copies** de l'objet. "
   ]
  },
  {
   "cell_type": "code",
   "execution_count": 47,
   "id": "01a0b6a9",
   "metadata": {},
   "outputs": [
    {
     "name": "stdout",
     "output_type": "stream",
     "text": [
      "[1, 2, 3, 4]\n"
     ]
    }
   ],
   "source": [
    "x=[1,2,3]\n",
    "y=x\n",
    "y.append(4)\n",
    "print(x)       # x a aussi été modifié !!! "
   ]
  },
  {
   "cell_type": "code",
   "execution_count": 48,
   "id": "8fb6d234",
   "metadata": {},
   "outputs": [
    {
     "name": "stdout",
     "output_type": "stream",
     "text": [
      "[1, 2, 3]\n"
     ]
    }
   ],
   "source": [
    "x=[1,2,3]\n",
    "y=x.copy()\n",
    "y.append(4)\n",
    "print(x)      # x non modifié car y est cette fois-ci une copie de x"
   ]
  },
  {
   "cell_type": "markdown",
   "id": "45150963",
   "metadata": {},
   "source": [
    "## Exercice 1"
   ]
  },
  {
   "cell_type": "markdown",
   "id": "19cb515e",
   "metadata": {},
   "source": [
    "Ecrire une **fonction** qui vérifie si deux listes ont au moins un élément commun. Tester-la ensuite sur des listes. "
   ]
  },
  {
   "cell_type": "markdown",
   "id": "b25a7be3",
   "metadata": {},
   "source": [
    "## Exercice 2"
   ]
  },
  {
   "cell_type": "markdown",
   "id": "b2897999",
   "metadata": {},
   "source": [
    "On donne une liste de mots :\n",
    "\n",
    "    mots=['er','f','5','abc','aba','xyz','1221']\n",
    "    \n",
    "Ecrire un programme qui extrait de cette liste les mots d'au moins 2 caractères et dont la première lettre est égale à la dernière. "
   ]
  },
  {
   "cell_type": "code",
   "execution_count": 52,
   "id": "8e685553",
   "metadata": {},
   "outputs": [],
   "source": [
    "mots=['er','f','5','abc','aba','xyz','1221','ff']"
   ]
  },
  {
   "cell_type": "markdown",
   "id": "a9aee128",
   "metadata": {},
   "source": [
    "## Exercice 3"
   ]
  },
  {
   "cell_type": "markdown",
   "id": "66c21729",
   "metadata": {},
   "source": [
    "Soit le dictionnaire :\n",
    "    \n",
    "    d={0: 1, 1: 10, 2: 20}\n",
    "    \n",
    "Ecrire un programme qui ajoute une nouvelle clé à ce dictionnaire et dont la valeur associée est la somme des valeurs des autres clés. "
   ]
  },
  {
   "cell_type": "markdown",
   "id": "d3dcf284",
   "metadata": {},
   "source": [
    "## Exercice 4"
   ]
  },
  {
   "cell_type": "markdown",
   "id": "83d43607",
   "metadata": {},
   "source": [
    "Soit une liste de $n$ objets, avec $n$ pair et $>0$. Le *mélange de Monge* consiste à démarrer une nouvelle liste en prenant un à un les items dans l'ordre de la liste initiale et en les plaçant comme suit : item 1, puis item 2 avant 1, puis item 3 après 1, puis item 4 avant 2, puis item 5 après de 3, etc... On place donc l'objet d'indice pair au début et l'objet d'indice impair au bout.<br/>\n",
    "Construisez une **fonction** qui prendra en input la **liste** initiale et qui renverra en output la liste mélangée. On vérifiera que l'input est bien une liste et que le nombre d'items $n$ est bien strictement positif et pair.<br/>\n",
    "Exemples :\n",
    "\n",
    "- Si le paquet initial est 1,2,3,4,5,6,7,8, le paquet mélangé sera 8,6,4,2,1,3,5,7\n",
    "- Si le paquet initial est 5,0,-3,8,9,1, le paquet mélangé sera 1,8,0,5,-3,9\n",
    "\n",
    "Une fois que votre fonction fonctionne, choisissiez une liste initiale quelconque de longueur 42, et constatez qu'après seulement 8 mélanges de Monge, on retombe sur la même liste. Choissiez ensuite une liste quelconque de longueur 30, et constatez qu'il faut atteindre 30 mélanges pour retomber sur la même liste.<br/>\n",
    "Pour information, ces périodicités sont démontrées dans l'article ci-joint (voir tableau page 27 \"in-Monge\")"
   ]
  }
 ],
 "metadata": {
  "kernelspec": {
   "display_name": "Python 3 (ipykernel)",
   "language": "python",
   "name": "python3"
  },
  "language_info": {
   "codemirror_mode": {
    "name": "ipython",
    "version": 3
   },
   "file_extension": ".py",
   "mimetype": "text/x-python",
   "name": "python",
   "nbconvert_exporter": "python",
   "pygments_lexer": "ipython3",
   "version": "3.10.9"
  }
 },
 "nbformat": 4,
 "nbformat_minor": 5
}
