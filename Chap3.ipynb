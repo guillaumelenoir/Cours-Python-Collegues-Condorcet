{
 "cells": [
  {
   "cell_type": "markdown",
   "id": "3ed58b24",
   "metadata": {},
   "source": [
    "# <span style=\"color:green\"><ins>Chapitre 3: Types de données simples</ins></span>"
   ]
  },
  {
   "cell_type": "code",
   "execution_count": 1,
   "id": "af7541d8",
   "metadata": {},
   "outputs": [],
   "source": [
    "import sys\n",
    "import numpy as np"
   ]
  },
  {
   "cell_type": "markdown",
   "id": "bd6e6943",
   "metadata": {},
   "source": [
    "## 3.1 Identificateurs"
   ]
  },
  {
   "cell_type": "markdown",
   "id": "902afb82",
   "metadata": {},
   "source": [
    "Pour nommer une variable, une fonction, etc, il faut satisfaire à quelques contraintes :\n",
    "- ils doivent commencer par une lettre (majuscule ou minuscule) ou le caractère underscore \"_\". \n",
    "- les caractères suivants doivent être : lettre, underscore ou chiffre\n",
    "\n",
    "En outre, ces identificateurs ne doivent pas être des mots clés prédéfinis de python (voir section suivante)"
   ]
  },
  {
   "cell_type": "code",
   "execution_count": 2,
   "id": "5853fb52",
   "metadata": {},
   "outputs": [],
   "source": [
    "# Exemples corrects\n",
    "x=4\n",
    "_y=8\n",
    "__mavariable7=x+9\n",
    "var7=89"
   ]
  },
  {
   "cell_type": "code",
   "execution_count": 3,
   "id": "f37ddec7",
   "metadata": {},
   "outputs": [
    {
     "ename": "SyntaxError",
     "evalue": "invalid syntax. Maybe you meant '==' or ':=' instead of '='? (671943661.py, line 2)",
     "output_type": "error",
     "traceback": [
      "\u001b[0;36m  Cell \u001b[0;32mIn[3], line 2\u001b[0;36m\u001b[0m\n\u001b[0;31m    @hello=9\u001b[0m\n\u001b[0m     ^\u001b[0m\n\u001b[0;31mSyntaxError\u001b[0m\u001b[0;31m:\u001b[0m invalid syntax. Maybe you meant '==' or ':=' instead of '='?\n"
     ]
    }
   ],
   "source": [
    "# Exemple incorrect\n",
    "@hello=9"
   ]
  },
  {
   "cell_type": "code",
   "execution_count": 4,
   "id": "ff2968e8",
   "metadata": {
    "scrolled": true
   },
   "outputs": [
    {
     "ename": "SyntaxError",
     "evalue": "invalid decimal literal (2694509662.py, line 2)",
     "output_type": "error",
     "traceback": [
      "\u001b[0;36m  Cell \u001b[0;32mIn[4], line 2\u001b[0;36m\u001b[0m\n\u001b[0;31m    9azerty=x+4\u001b[0m\n\u001b[0m    ^\u001b[0m\n\u001b[0;31mSyntaxError\u001b[0m\u001b[0;31m:\u001b[0m invalid decimal literal\n"
     ]
    }
   ],
   "source": [
    "# Exemple incorrect\n",
    "9azerty=x+4"
   ]
  },
  {
   "cell_type": "code",
   "execution_count": 5,
   "id": "2ba7beff",
   "metadata": {},
   "outputs": [
    {
     "ename": "SyntaxError",
     "evalue": "cannot assign to expression here. Maybe you meant '==' instead of '='? (3108246086.py, line 2)",
     "output_type": "error",
     "traceback": [
      "\u001b[0;36m  Cell \u001b[0;32mIn[5], line 2\u001b[0;36m\u001b[0m\n\u001b[0;31m    ma-variable=x+4\u001b[0m\n\u001b[0m    ^\u001b[0m\n\u001b[0;31mSyntaxError\u001b[0m\u001b[0;31m:\u001b[0m cannot assign to expression here. Maybe you meant '==' instead of '='?\n"
     ]
    }
   ],
   "source": [
    "# Exemple incorrect\n",
    "ma-variable=x+4"
   ]
  },
  {
   "cell_type": "markdown",
   "id": "5fef74d9",
   "metadata": {},
   "source": [
    "## 3.2 Mots clés de Python 3"
   ]
  },
  {
   "cell_type": "markdown",
   "id": "ad34d1da",
   "metadata": {},
   "source": [
    "Certains noms sont \"protégés\" en python 3 car ils ont une signification bien précise, comme **def** par exemple, que nous avons déjà rencontré et qui sert à créer une fonction, ou **import** pour importer des librairies.<br/>\n",
    "Il est interdit d'utiliser ces noms pour nommer une variable par exemple. Nous en rencontrerons d'autres dans la suite du cours. Voici la liste des mots clés de python 3.8 :"
   ]
  },
  {
   "cell_type": "code",
   "execution_count": null,
   "id": "1a12625f",
   "metadata": {},
   "outputs": [],
   "source": [
    "False\n",
    "None\n",
    "True \n",
    "and\n",
    "as\n",
    "assert\n",
    "async\n",
    "await\n",
    "break\n",
    "class\n",
    "continue\n",
    "def\n",
    "del \n",
    "elif\n",
    "else\n",
    "except\n",
    "finally\n",
    "for\n",
    "from\n",
    "global\n",
    "if\n",
    "import\n",
    "in\n",
    "is\n",
    "lambda\n",
    "nonlocal\n",
    "not\n",
    "or\n",
    "pass\n",
    "raise\n",
    "return\n",
    "try\n",
    "while\n",
    "with\n",
    "yield"
   ]
  },
  {
   "cell_type": "markdown",
   "id": "a2fcebd4",
   "metadata": {},
   "source": [
    "L'éditeur ipython met d'ailleurs ces noms en vert et en gras par défaut. "
   ]
  },
  {
   "cell_type": "markdown",
   "id": "fab3e389",
   "metadata": {},
   "source": [
    "Si on nomme une variable avec un de ces mots clés, python renvoie une erreur : "
   ]
  },
  {
   "cell_type": "code",
   "execution_count": 6,
   "id": "6088ce8a",
   "metadata": {},
   "outputs": [
    {
     "ename": "SyntaxError",
     "evalue": "invalid syntax (66588166.py, line 1)",
     "output_type": "error",
     "traceback": [
      "\u001b[0;36m  Cell \u001b[0;32mIn[6], line 1\u001b[0;36m\u001b[0m\n\u001b[0;31m    lambda=9\u001b[0m\n\u001b[0m          ^\u001b[0m\n\u001b[0;31mSyntaxError\u001b[0m\u001b[0;31m:\u001b[0m invalid syntax\n"
     ]
    }
   ],
   "source": [
    "lambda=9"
   ]
  },
  {
   "cell_type": "markdown",
   "id": "9e79b2b8",
   "metadata": {},
   "source": [
    "## 3.3 Types de données"
   ]
  },
  {
   "cell_type": "markdown",
   "id": "4ae15161",
   "metadata": {},
   "source": [
    "Les objets manipulés peuvent être de différents type :"
   ]
  },
  {
   "cell_type": "code",
   "execution_count": 7,
   "id": "738e3a41",
   "metadata": {},
   "outputs": [
    {
     "data": {
      "text/plain": [
       "int"
      ]
     },
     "execution_count": 7,
     "metadata": {},
     "output_type": "execute_result"
    }
   ],
   "source": [
    "# Entiers :\n",
    "type(234)"
   ]
  },
  {
   "cell_type": "code",
   "execution_count": 8,
   "id": "cf961b34",
   "metadata": {},
   "outputs": [
    {
     "data": {
      "text/plain": [
       "bool"
      ]
     },
     "execution_count": 8,
     "metadata": {},
     "output_type": "execute_result"
    }
   ],
   "source": [
    "# Booléens :\n",
    "type(True)"
   ]
  },
  {
   "cell_type": "code",
   "execution_count": 9,
   "id": "8561b775",
   "metadata": {},
   "outputs": [
    {
     "data": {
      "text/plain": [
       "float"
      ]
     },
     "execution_count": 9,
     "metadata": {},
     "output_type": "execute_result"
    }
   ],
   "source": [
    "# Nombres à virgule flottante (qui représentent les nombres réels) :\n",
    "type(-5.6)"
   ]
  },
  {
   "cell_type": "code",
   "execution_count": 10,
   "id": "a3fb03ec",
   "metadata": {},
   "outputs": [
    {
     "data": {
      "text/plain": [
       "complex"
      ]
     },
     "execution_count": 10,
     "metadata": {},
     "output_type": "execute_result"
    }
   ],
   "source": [
    "# Nombres complexes :\n",
    "type(5+8.9j)"
   ]
  },
  {
   "cell_type": "code",
   "execution_count": 11,
   "id": "e65eb069",
   "metadata": {},
   "outputs": [
    {
     "data": {
      "text/plain": [
       "str"
      ]
     },
     "execution_count": 11,
     "metadata": {},
     "output_type": "execute_result"
    }
   ],
   "source": [
    "# Chaînes de caractères (texte) :\n",
    "type(\"Hello world\")"
   ]
  },
  {
   "cell_type": "code",
   "execution_count": 12,
   "id": "52bd120f",
   "metadata": {},
   "outputs": [
    {
     "data": {
      "text/plain": [
       "list"
      ]
     },
     "execution_count": 12,
     "metadata": {},
     "output_type": "execute_result"
    }
   ],
   "source": [
    "# Listes :\n",
    "type([4,5,\"Hi you\",True])"
   ]
  },
  {
   "cell_type": "code",
   "execution_count": 13,
   "id": "6dac8e06",
   "metadata": {},
   "outputs": [
    {
     "data": {
      "text/plain": [
       "tuple"
      ]
     },
     "execution_count": 13,
     "metadata": {},
     "output_type": "execute_result"
    }
   ],
   "source": [
    "# Tuples :\n",
    "type((\"a\",5.7,[3,4,5]))       # exemple de tuple contenant du texte (str), un float et une liste"
   ]
  },
  {
   "cell_type": "code",
   "execution_count": 14,
   "id": "1c0e97fd",
   "metadata": {},
   "outputs": [
    {
     "data": {
      "text/plain": [
       "dict"
      ]
     },
     "execution_count": 14,
     "metadata": {},
     "output_type": "execute_result"
    }
   ],
   "source": [
    "# Dictionnaires : \n",
    "type({\"Mathématiques\": 8, \"Physique\": 3,\"Chimie\": 2, \"Biologie\": 2})"
   ]
  },
  {
   "cell_type": "code",
   "execution_count": 15,
   "id": "fdaa1975",
   "metadata": {},
   "outputs": [
    {
     "data": {
      "text/plain": [
       "set"
      ]
     },
     "execution_count": 15,
     "metadata": {},
     "output_type": "execute_result"
    }
   ],
   "source": [
    "# Ensembles mutables: \n",
    "type({\"Coeur\",\"Carreau\",\"As\",\"Pique\"})"
   ]
  },
  {
   "cell_type": "code",
   "execution_count": 16,
   "id": "02eec64c",
   "metadata": {},
   "outputs": [
    {
     "data": {
      "text/plain": [
       "frozenset"
      ]
     },
     "execution_count": 16,
     "metadata": {},
     "output_type": "execute_result"
    }
   ],
   "source": [
    "# Ensembles immutables (frozen set) :\n",
    "type(frozenset({\"Coeur\",\"Carreau\",\"As\",\"Pique\"}))"
   ]
  },
  {
   "cell_type": "code",
   "execution_count": 17,
   "id": "bf8e8eb2",
   "metadata": {},
   "outputs": [
    {
     "data": {
      "text/plain": [
       "function"
      ]
     },
     "execution_count": 17,
     "metadata": {},
     "output_type": "execute_result"
    }
   ],
   "source": [
    "# Fonctions :\n",
    "def f(x) : return 2*x+3\n",
    "type(f)"
   ]
  },
  {
   "cell_type": "code",
   "execution_count": 18,
   "id": "0a9a9261",
   "metadata": {},
   "outputs": [
    {
     "data": {
      "text/plain": [
       "NoneType"
      ]
     },
     "execution_count": 18,
     "metadata": {},
     "output_type": "execute_result"
    }
   ],
   "source": [
    "# None :\n",
    "type(None)"
   ]
  },
  {
   "cell_type": "markdown",
   "id": "2f6970df",
   "metadata": {},
   "source": [
    "Les données de type *simple* sont présentées ci-dessous. Les types list, tuple, dict, ... seront étudiés au chapitre 5.<br/>\n",
    "Pour une liste exhaustive des différents types de données, voir https://www.w3schools.com/python/python_datatypes.asp"
   ]
  },
  {
   "cell_type": "markdown",
   "id": "fa31319d",
   "metadata": {},
   "source": [
    "## 3.4 Type *int*"
   ]
  },
  {
   "cell_type": "markdown",
   "id": "0fa479db",
   "metadata": {},
   "source": [
    "Ce type de données représente les entiers naturels. "
   ]
  },
  {
   "cell_type": "markdown",
   "id": "bbeb9282",
   "metadata": {},
   "source": [
    "### Base 10 (défaut)"
   ]
  },
  {
   "cell_type": "code",
   "execution_count": 19,
   "id": "6091ba1a",
   "metadata": {},
   "outputs": [
    {
     "data": {
      "text/plain": [
       "2024"
      ]
     },
     "execution_count": 19,
     "metadata": {},
     "output_type": "execute_result"
    }
   ],
   "source": [
    "2024"
   ]
  },
  {
   "cell_type": "markdown",
   "id": "211c2764",
   "metadata": {},
   "source": [
    "### Base 2 (binaire) vers base 10 : préfixe 0b :"
   ]
  },
  {
   "cell_type": "code",
   "execution_count": 20,
   "id": "bc2a3f26",
   "metadata": {},
   "outputs": [],
   "source": [
    "0b11111101000"
   ]
  },
  {
   "cell_type": "code",
   "execution_count": 21,
   "id": "9948fe03",
   "metadata": {},
   "outputs": [
    {
     "data": {
      "text/plain": [
       "int"
      ]
     },
     "execution_count": 21,
     "metadata": {},
     "output_type": "execute_result"
    }
   ],
   "source": [
    "type(0b11111101000)"
   ]
  },
  {
   "cell_type": "markdown",
   "id": "3af6a40b",
   "metadata": {},
   "source": [
    "### Base 8 (octale) vers base 10 : préfixe 0o :"
   ]
  },
  {
   "cell_type": "code",
   "execution_count": 22,
   "id": "ba9b08bb",
   "metadata": {},
   "outputs": [
    {
     "data": {
      "text/plain": [
       "2024"
      ]
     },
     "execution_count": 22,
     "metadata": {},
     "output_type": "execute_result"
    }
   ],
   "source": [
    "0o3750"
   ]
  },
  {
   "cell_type": "markdown",
   "id": "4bfd6c55",
   "metadata": {},
   "source": [
    "### Base 16 (hexadécimale) vers base 10 : préfixe 0x :"
   ]
  },
  {
   "cell_type": "code",
   "execution_count": 23,
   "id": "f4b613d5",
   "metadata": {},
   "outputs": [
    {
     "data": {
      "text/plain": [
       "2024"
      ]
     },
     "execution_count": 23,
     "metadata": {},
     "output_type": "execute_result"
    }
   ],
   "source": [
    "0x7E8"
   ]
  },
  {
   "cell_type": "markdown",
   "id": "9552b03f",
   "metadata": {},
   "source": [
    "### Base 10 vers base 2 :"
   ]
  },
  {
   "cell_type": "code",
   "execution_count": 24,
   "id": "0615e27c",
   "metadata": {},
   "outputs": [
    {
     "data": {
      "text/plain": [
       "'0b11111101000'"
      ]
     },
     "execution_count": 24,
     "metadata": {},
     "output_type": "execute_result"
    }
   ],
   "source": [
    "bin(2024)"
   ]
  },
  {
   "cell_type": "markdown",
   "id": "627930d1",
   "metadata": {},
   "source": [
    "### Base 10 vers base 8 : "
   ]
  },
  {
   "cell_type": "code",
   "execution_count": 25,
   "id": "b4b14de5",
   "metadata": {},
   "outputs": [
    {
     "data": {
      "text/plain": [
       "'0o3750'"
      ]
     },
     "execution_count": 25,
     "metadata": {},
     "output_type": "execute_result"
    }
   ],
   "source": [
    "oct(2024)"
   ]
  },
  {
   "cell_type": "markdown",
   "id": "71263bc2",
   "metadata": {},
   "source": [
    "### Base 16 vers base 10 : "
   ]
  },
  {
   "cell_type": "code",
   "execution_count": 26,
   "id": "c1f6b5c0",
   "metadata": {},
   "outputs": [
    {
     "data": {
      "text/plain": [
       "'0x7e8'"
      ]
     },
     "execution_count": 26,
     "metadata": {},
     "output_type": "execute_result"
    }
   ],
   "source": [
    "hex(2024)"
   ]
  },
  {
   "cell_type": "markdown",
   "id": "e8660dd6",
   "metadata": {},
   "source": [
    "### Plus grand entier et *arithmetic overflow*"
   ]
  },
  {
   "cell_type": "markdown",
   "id": "97a0b6a4",
   "metadata": {},
   "source": [
    "Le plus grand nombre entier \"signé\" représentable dépend de comment python tourne sur votre machine : en 32 bits ou en 64 bits :"
   ]
  },
  {
   "cell_type": "code",
   "execution_count": 27,
   "id": "bf49da08",
   "metadata": {},
   "outputs": [
    {
     "name": "stdout",
     "output_type": "stream",
     "text": [
      "64 bits\n"
     ]
    }
   ],
   "source": [
    "import struct\n",
    "# Use the 'calcsize' function to determine the size (in bytes) of the C int type for the current platform.\n",
    "# The format string \"P\" is used to represent the C void pointer type, and multiplying it by 8 gives the size in bits.\n",
    "# The result will be 32 for 32-bit platforms and 64 for 64-bit platforms.\n",
    "print(str(struct.calcsize(\"P\") * 8)+\" bits\")"
   ]
  },
  {
   "cell_type": "markdown",
   "id": "cad60750",
   "metadata": {},
   "source": [
    "Sur 64 bits, c'est à dire avec 2^64 possibiltés de nombres différents, la convention est la suivante :<br/>\n",
    "**Tous les entiers de -2^63 jusque 2^63-1**<br/>\n",
    "Sur 32 bits, on irait de -2^31 jusque 2^31-1"
   ]
  },
  {
   "cell_type": "markdown",
   "id": "b21ff3c2",
   "metadata": {},
   "source": [
    "Plus grand nombre entier : "
   ]
  },
  {
   "cell_type": "code",
   "execution_count": 28,
   "id": "d9cc5ccd",
   "metadata": {},
   "outputs": [
    {
     "data": {
      "text/plain": [
       "9223372036854775807"
      ]
     },
     "execution_count": 28,
     "metadata": {},
     "output_type": "execute_result"
    }
   ],
   "source": [
    "sys.maxsize"
   ]
  },
  {
   "cell_type": "markdown",
   "id": "30044c5f",
   "metadata": {},
   "source": [
    "Comparons avec la valeur attendue théoriquement :"
   ]
  },
  {
   "cell_type": "code",
   "execution_count": 29,
   "id": "08b5d24f",
   "metadata": {},
   "outputs": [
    {
     "name": "stdout",
     "output_type": "stream",
     "text": [
      "9223372036854775807\n"
     ]
    }
   ],
   "source": [
    "print(2**63-1)"
   ]
  },
  {
   "cell_type": "markdown",
   "id": "0d473369",
   "metadata": {},
   "source": [
    "Lorsqu'on dépasse ce nombre (on parle alors d'***arithmetic overflow***), il faut s'attendre à quelques surprises.<br/> \n",
    "Parfois, ça fonctionne sans problème (sous python 3) :"
   ]
  },
  {
   "cell_type": "code",
   "execution_count": 30,
   "id": "048776e0",
   "metadata": {},
   "outputs": [
    {
     "name": "stdout",
     "output_type": "stream",
     "text": [
      "9223372036854775807\n",
      "9223372036854775808\n",
      "922337203685477580700\n",
      "85070591730234615847396907784232501249\n"
     ]
    }
   ],
   "source": [
    "x=sys.maxsize\n",
    "print(x)\n",
    "print(x+1)\n",
    "print(100*x)\n",
    "print(x**2)"
   ]
  },
  {
   "cell_type": "markdown",
   "id": "cbd570a6",
   "metadata": {},
   "source": [
    "Parfois, ça ne fonctionne pas :"
   ]
  },
  {
   "cell_type": "code",
   "execution_count": 31,
   "id": "5612a796",
   "metadata": {},
   "outputs": [
    {
     "name": "stdout",
     "output_type": "stream",
     "text": [
      "9223372036854775807\n",
      "-9223372036854775808\n",
      "-100\n",
      "1\n"
     ]
    }
   ],
   "source": [
    "x=np.array([[sys.maxsize]])\n",
    "print(x[0,0])                             # x\n",
    "print((x+np.array([[1]]))[0,0])           # x+1\n",
    "print((100*x)[0,0])                       # 100*x\n",
    "print((x**2)[0,0])                        # x**2"
   ]
  },
  {
   "cell_type": "markdown",
   "id": "fce87a83",
   "metadata": {},
   "source": [
    "**Conclusion :** Lorsqu'on s'attend à dépasser ce nombre entier max, il est préférable de transformer les entiers en nombres à virgules flottantes, qui permettent de travailler avec de plus grands nombres (voir section 3.6). Reprenons l'exemple précédent :"
   ]
  },
  {
   "cell_type": "code",
   "execution_count": 32,
   "id": "fe1898be",
   "metadata": {},
   "outputs": [
    {
     "name": "stdout",
     "output_type": "stream",
     "text": [
      "9.223372036854776e+18\n",
      "9.223372036854776e+18\n",
      "9.223372036854776e+20\n",
      "8.507059173023462e+37\n"
     ]
    }
   ],
   "source": [
    "x=np.array([[float(sys.maxsize)]])        # Entier transformé en réel avec float\n",
    "print(x[0,0])                             # x\n",
    "print((x+np.array([[1]]))[0,0])           # x+1\n",
    "print((100*x)[0,0])                       # 100*x\n",
    "print((x**2)[0,0])                        # x**2"
   ]
  },
  {
   "cell_type": "markdown",
   "id": "72074412",
   "metadata": {},
   "source": [
    "NB : lorsqu'on passe en \"float\", la représentation des nombres n'est plus exacte, elle est limitée par à une quinzaine de chifrres après la virgule en écriture sous format scientifique (double précision). Dans cet exemple, x et x+1 sont donc indiscernables... "
   ]
  },
  {
   "cell_type": "markdown",
   "id": "b9e880ab",
   "metadata": {},
   "source": [
    "## 3.5 Données de type *bool*"
   ]
  },
  {
   "cell_type": "markdown",
   "id": "d72def16",
   "metadata": {},
   "source": [
    "On travaille ici avec des variables qui sont soit vraies (True), soit fausses (False). Ce type de variable est appelée **variable logique** et les règles de calcul sont dictées par l’algèbre de Boole. "
   ]
  },
  {
   "cell_type": "markdown",
   "id": "ded901f4",
   "metadata": {},
   "source": [
    "### Opérateurs de comparaison"
   ]
  },
  {
   "cell_type": "markdown",
   "id": "007111c4",
   "metadata": {},
   "source": [
    "- <, <=, >, >= (strictement plus petit, plus petit ou  égal, ...)\n",
    "- == (égal)\n",
    "- != (différent)"
   ]
  },
  {
   "cell_type": "code",
   "execution_count": 33,
   "id": "fc3e972b",
   "metadata": {},
   "outputs": [
    {
     "name": "stdout",
     "output_type": "stream",
     "text": [
      "False\n",
      "True\n"
     ]
    }
   ],
   "source": [
    "x=2          # signifie : x <- 2\n",
    "x==3         # signifie : x est-il égal à 3? (2 réponses possibles : True/False)\n",
    "y=(x==3)     # y est donc une variable logique\n",
    "print(y)\n",
    "print(x!=3)"
   ]
  },
  {
   "cell_type": "code",
   "execution_count": 34,
   "id": "a80c5bf3",
   "metadata": {},
   "outputs": [
    {
     "name": "stdout",
     "output_type": "stream",
     "text": [
      "False\n",
      "True\n"
     ]
    }
   ],
   "source": [
    "print(2>8)\n",
    "print(2<=8<15)"
   ]
  },
  {
   "cell_type": "markdown",
   "id": "d295a05e",
   "metadata": {},
   "source": [
    "Pour tester si deux tableaux numpy sont égaux (et de même taille), on utilise `np.array_equal` :"
   ]
  },
  {
   "cell_type": "code",
   "execution_count": 35,
   "id": "3d764f15",
   "metadata": {},
   "outputs": [
    {
     "name": "stdout",
     "output_type": "stream",
     "text": [
      "True\n",
      "False\n"
     ]
    }
   ],
   "source": [
    "A=B=np.array([[1,2],[3,4]])\n",
    "C=np.array([[1,2],[3,5]])\n",
    "print(np.array_equal(A,B))\n",
    "print(np.array_equal(A,C))"
   ]
  },
  {
   "cell_type": "markdown",
   "id": "ee5fe293",
   "metadata": {},
   "source": [
    "Et pour tester si deux tableaux numpy sont presqu'égaux terme à terme, avec une certaine tolérance à spécifier, on utilise `np.allclose` (voir documentation pour son utilisation). "
   ]
  },
  {
   "cell_type": "markdown",
   "id": "d1110075",
   "metadata": {},
   "source": [
    "Pour tester si tous les éléments d'un tableau logique sont vrais, on applique la méthode `all` à notre objet, et pour tester si au moins un  élément du tableau est vrai, on utilise la méthode `any` :"
   ]
  },
  {
   "cell_type": "code",
   "execution_count": 36,
   "id": "5fd33c4f",
   "metadata": {},
   "outputs": [
    {
     "name": "stdout",
     "output_type": "stream",
     "text": [
      "True\n",
      "False\n"
     ]
    }
   ],
   "source": [
    "A=np.array([[True,True],[True,True]])\n",
    "print(A.all())\n",
    "A=np.array([[True,True],[False,True]])\n",
    "print(A.all())"
   ]
  },
  {
   "cell_type": "code",
   "execution_count": 37,
   "id": "fc05d756",
   "metadata": {},
   "outputs": [
    {
     "name": "stdout",
     "output_type": "stream",
     "text": [
      "True\n",
      "False\n"
     ]
    }
   ],
   "source": [
    "A=np.array([[True,True],[False,True]])\n",
    "print(A.any())\n",
    "A=np.array([[False,False],[False,False]])\n",
    "print(A.any())"
   ]
  },
  {
   "cell_type": "markdown",
   "id": "901a335d",
   "metadata": {},
   "source": [
    "### Connecteurs logiques"
   ]
  },
  {
   "cell_type": "markdown",
   "id": "33499755",
   "metadata": {},
   "source": [
    "On peut connecter les variables logiques a et b via les opérateurs suivants :\n",
    "- a and b (et)\n",
    "- a or b (ou inclusif)\n",
    "- not(a) (non)\n",
    "\n",
    "Pour rappel, leurs tables de vérités sont les suivantes :\n",
    "\n",
    "|a|b|a and b|a or b|\n",
    "|-|-|-|-|\n",
    "|True|True|True|True|\n",
    "|True|False|False|True|\n",
    "|False|True|False|True|\n",
    "|False|False|False|False|\n",
    "\n",
    "|a|not(a)|\n",
    "|-|-|\n",
    "|True|False|\n",
    "|False|True|\n",
    "\n",
    "Il existe aussi le \"ou exclusif\" (XOR - soit a, soit b) qui n'est pas disponible par défaut en python. On peut le coder comme suit par exemple :"
   ]
  },
  {
   "cell_type": "code",
   "execution_count": 38,
   "id": "a56a4f28",
   "metadata": {},
   "outputs": [],
   "source": [
    "def xor(a,b) : return (a and not(b)) or (b and not(a))"
   ]
  },
  {
   "cell_type": "code",
   "execution_count": 39,
   "id": "a2652c4d",
   "metadata": {},
   "outputs": [
    {
     "name": "stdout",
     "output_type": "stream",
     "text": [
      "True\n",
      "True\n",
      "False\n"
     ]
    }
   ],
   "source": [
    "x=4\n",
    "print(x>2 and x<5)   # Vrai ET Vrai = Vrai\n",
    "print(x>2 or x<3)    # Vrai OU Faux = Vrai\n",
    "print(xor(x>2,x<5))  # Vrai XOR Vrai = Faux"
   ]
  },
  {
   "cell_type": "markdown",
   "id": "1fce65f8",
   "metadata": {},
   "source": [
    "### Conversion vers le type *bool*"
   ]
  },
  {
   "cell_type": "markdown",
   "id": "a28a5d02",
   "metadata": {},
   "source": [
    "Lors d'une opération *logique*, les autres types de données sont automatiquement converties en type *bool* comme suit :\n",
    "- Conversion vers `False` : zéro (quel que soit le type numérique), `None`, ou bien les chaînes de caractères, les listes, les tuples, les dictionnaires ou les ensembles **vides**. \n",
    "- Conversion vers `True` : Tout le reste. \n",
    "\n",
    "Pour éviter les surprises, il est préférable de convertir soi-même les variables avec la fonction `bool`. "
   ]
  },
  {
   "cell_type": "code",
   "execution_count": 40,
   "id": "ecf92add",
   "metadata": {},
   "outputs": [
    {
     "data": {
      "text/plain": [
       "True"
      ]
     },
     "execution_count": 40,
     "metadata": {},
     "output_type": "execute_result"
    }
   ],
   "source": [
    "x=4.6\n",
    "bool(x)"
   ]
  },
  {
   "cell_type": "code",
   "execution_count": 41,
   "id": "ebc1c6bf",
   "metadata": {},
   "outputs": [
    {
     "data": {
      "text/plain": [
       "False"
      ]
     },
     "execution_count": 41,
     "metadata": {},
     "output_type": "execute_result"
    }
   ],
   "source": [
    "x=[]\n",
    "bool(x)"
   ]
  },
  {
   "cell_type": "code",
   "execution_count": 42,
   "id": "c4777595",
   "metadata": {},
   "outputs": [
    {
     "data": {
      "text/plain": [
       "True"
      ]
     },
     "execution_count": 42,
     "metadata": {},
     "output_type": "execute_result"
    }
   ],
   "source": [
    "x=float('nan')\n",
    "bool(x)"
   ]
  },
  {
   "cell_type": "code",
   "execution_count": 43,
   "id": "76a2d6ca",
   "metadata": {},
   "outputs": [
    {
     "data": {
      "text/plain": [
       "'a'"
      ]
     },
     "execution_count": 43,
     "metadata": {},
     "output_type": "execute_result"
    }
   ],
   "source": [
    "\"a\" or False      # \"a\" est converti en True lors de la comparaison"
   ]
  },
  {
   "cell_type": "code",
   "execution_count": 44,
   "id": "13bd9e9b",
   "metadata": {},
   "outputs": [
    {
     "name": "stdout",
     "output_type": "stream",
     "text": [
      "0\n",
      "True\n"
     ]
    }
   ],
   "source": [
    "x=0\n",
    "print(x and 3>2)    # 0 est converti en False lors de la comparaison\n",
    "print(x or 3>2)"
   ]
  },
  {
   "cell_type": "markdown",
   "id": "00be11f7",
   "metadata": {},
   "source": [
    "## 3.6 Type *float*"
   ]
  },
  {
   "cell_type": "markdown",
   "id": "e44331c3",
   "metadata": {},
   "source": [
    "Contrairement aux entiers, il est impossible de représenter informatiquement tous les réels sur un intervalle donné. Tous les langages informatiques se basent donc sur une représentation bien spécifique qui permet de repésenter certains nombres réels : la représentation à virgule flottante (floating point numbers).<br/>\n",
    "    Pour passer en type float, on utilise la fonction float :"
   ]
  },
  {
   "cell_type": "code",
   "execution_count": 45,
   "id": "3e439e0f",
   "metadata": {},
   "outputs": [
    {
     "name": "stdout",
     "output_type": "stream",
     "text": [
      "1234\n",
      "1234.0\n"
     ]
    }
   ],
   "source": [
    "x=1234\n",
    "print(x)               # type int\n",
    "print(float(x))        # type float"
   ]
  },
  {
   "cell_type": "markdown",
   "id": "ed0b36fe",
   "metadata": {},
   "source": [
    "Lors d'opérations arithmétiques, la conversion vers le type float se fait automatiquement si besoin :"
   ]
  },
  {
   "cell_type": "code",
   "execution_count": 46,
   "id": "1762b1ea",
   "metadata": {},
   "outputs": [
    {
     "data": {
      "text/plain": [
       "2.6666666666666665"
      ]
     },
     "execution_count": 46,
     "metadata": {},
     "output_type": "execute_result"
    }
   ],
   "source": [
    "8/3       # la division de 2 entiers (type int) donne un réél (type float)"
   ]
  },
  {
   "cell_type": "code",
   "execution_count": 47,
   "id": "77fb4863",
   "metadata": {},
   "outputs": [
    {
     "data": {
      "text/plain": [
       "2.0"
      ]
     },
     "execution_count": 47,
     "metadata": {},
     "output_type": "execute_result"
    }
   ],
   "source": [
    "np.sqrt(4)     # la réponse est de type float"
   ]
  },
  {
   "cell_type": "markdown",
   "id": "0c4a47b0",
   "metadata": {},
   "source": [
    "Il faut toutefois faire la conversion manuellement dans certains cas spécifiques d'arithmetic overflow, comme mentionné à la section 3.4."
   ]
  },
  {
   "cell_type": "markdown",
   "id": "17fbf886",
   "metadata": {},
   "source": [
    "Le plus grand nombre réel et le plus petit nombre réel représentables (en valeur absolue) sont"
   ]
  },
  {
   "cell_type": "code",
   "execution_count": 48,
   "id": "601faf66",
   "metadata": {},
   "outputs": [
    {
     "data": {
      "text/plain": [
       "1.7976931348623157e+308"
      ]
     },
     "execution_count": 48,
     "metadata": {},
     "output_type": "execute_result"
    }
   ],
   "source": [
    "sys.float_info.max"
   ]
  },
  {
   "cell_type": "code",
   "execution_count": 49,
   "id": "c3e2f335",
   "metadata": {},
   "outputs": [
    {
     "data": {
      "text/plain": [
       "2.2250738585072014e-308"
      ]
     },
     "execution_count": 49,
     "metadata": {},
     "output_type": "execute_result"
    }
   ],
   "source": [
    "sys.float_info.min"
   ]
  },
  {
   "cell_type": "markdown",
   "id": "97545340",
   "metadata": {},
   "source": [
    "Au delà de ce maximum, les nombres sont considérés comme *infinis* :"
   ]
  },
  {
   "cell_type": "code",
   "execution_count": 50,
   "id": "480039a3",
   "metadata": {},
   "outputs": [
    {
     "data": {
      "text/plain": [
       "inf"
      ]
     },
     "execution_count": 50,
     "metadata": {},
     "output_type": "execute_result"
    }
   ],
   "source": [
    "2*sys.float_info.max"
   ]
  },
  {
   "cell_type": "markdown",
   "id": "e1c52045",
   "metadata": {},
   "source": [
    "Les 2 \"nombres\" spéciaux sont nan (not a number) et l'infini :"
   ]
  },
  {
   "cell_type": "code",
   "execution_count": 51,
   "id": "80eab7cb",
   "metadata": {},
   "outputs": [
    {
     "data": {
      "text/plain": [
       "inf"
      ]
     },
     "execution_count": 51,
     "metadata": {},
     "output_type": "execute_result"
    }
   ],
   "source": [
    "float('inf')"
   ]
  },
  {
   "cell_type": "code",
   "execution_count": 52,
   "id": "9c66f082",
   "metadata": {},
   "outputs": [
    {
     "data": {
      "text/plain": [
       "nan"
      ]
     },
     "execution_count": 52,
     "metadata": {},
     "output_type": "execute_result"
    }
   ],
   "source": [
    "float('nan')"
   ]
  },
  {
   "cell_type": "markdown",
   "id": "7c78fe63",
   "metadata": {},
   "source": [
    "nan est le résultat d'opérations *exotiques*, par exemple lorsqu'on calcule $\\infty-\\infty$, ou $0/0$ dans des tableaux numpy :"
   ]
  },
  {
   "cell_type": "code",
   "execution_count": 53,
   "id": "4f57bb05",
   "metadata": {},
   "outputs": [
    {
     "data": {
      "text/plain": [
       "nan"
      ]
     },
     "execution_count": 53,
     "metadata": {},
     "output_type": "execute_result"
    }
   ],
   "source": [
    "float('inf')-float('inf')"
   ]
  },
  {
   "cell_type": "code",
   "execution_count": 54,
   "id": "1a3b10df",
   "metadata": {},
   "outputs": [
    {
     "name": "stdout",
     "output_type": "stream",
     "text": [
      "[[nan]]\n"
     ]
    },
    {
     "name": "stderr",
     "output_type": "stream",
     "text": [
      "/var/folders/y7/qst494yn7fn744n4rf6j32lm0000gn/T/ipykernel_34826/3162315926.py:3: RuntimeWarning: invalid value encountered in divide\n",
      "  print((x/y))\n"
     ]
    }
   ],
   "source": [
    "x=np.array([[0.]])\n",
    "y=np.array([[0.]])\n",
    "print((x/y))"
   ]
  },
  {
   "cell_type": "markdown",
   "id": "1603c9c0",
   "metadata": {},
   "source": [
    "## 3.7 Type *complex*"
   ]
  },
  {
   "cell_type": "markdown",
   "id": "226ba07c",
   "metadata": {},
   "source": [
    "Lcomplexes sont représentés sous forme rectangulaire *a+bj*, où a = partie réelle (type float) et b = partie imaginaire (type float). Les entiers sont automatiquements convertis en float : "
   ]
  },
  {
   "cell_type": "code",
   "execution_count": 55,
   "id": "dba1b6dd",
   "metadata": {},
   "outputs": [
    {
     "name": "stdout",
     "output_type": "stream",
     "text": [
      "(3+4j)\n",
      "3.0\n",
      "4.0\n",
      "5.0\n",
      "(3-4j)\n",
      "(3-4j)\n"
     ]
    }
   ],
   "source": [
    "z=3+4j\n",
    "print(z)\n",
    "print(z.real)             # partie réelle (type float)\n",
    "print(z.imag)             # partie imaginaire (type float)\n",
    "print(abs(z))             # module\n",
    "print(z.conjugate())      # conjugué\n",
    "print(np.conjugate(z))    # autre façon pour le conjugué"
   ]
  },
  {
   "cell_type": "markdown",
   "id": "1d24812f",
   "metadata": {},
   "source": [
    "## 3.8 Type *str* : Chaines de caractères"
   ]
  },
  {
   "cell_type": "markdown",
   "id": "550e8d12",
   "metadata": {},
   "source": [
    "### Syntaxe de base"
   ]
  },
  {
   "cell_type": "markdown",
   "id": "e50d92f4",
   "metadata": {},
   "source": [
    "Les chaines de caractères (string) sont des valeurs textuelles entourées par des guillemets. Plusieurs choix sont possibles :"
   ]
  },
  {
   "cell_type": "code",
   "execution_count": 56,
   "id": "23534668",
   "metadata": {},
   "outputs": [
    {
     "name": "stdout",
     "output_type": "stream",
     "text": [
      "Hello\n",
      "Hello\n",
      "Hello\n",
      "Hello\n"
     ]
    }
   ],
   "source": [
    "x='Hello'         # Guillemets simples (en apostrophe)\n",
    "print(x)\n",
    "x=\"Hello\"         # Guillemets doubles \n",
    "print(x)\n",
    "x='''Hello'''     # 3 guillemets simples\n",
    "print(x)\n",
    "x=\"\"\"Hello\"\"\"     # 3 guillemets doubles\n",
    "print(x)"
   ]
  },
  {
   "cell_type": "markdown",
   "id": "05ca8020",
   "metadata": {},
   "source": [
    "L'usage des guillemets simples versus double est utile lorsque le texte contient déjà des guillemets :"
   ]
  },
  {
   "cell_type": "code",
   "execution_count": 57,
   "id": "bd526340",
   "metadata": {},
   "outputs": [
    {
     "name": "stdout",
     "output_type": "stream",
     "text": [
      "C'est l'été !\n"
     ]
    }
   ],
   "source": [
    "print(\"C'est l'été !\")"
   ]
  },
  {
   "cell_type": "markdown",
   "id": "be72f34b",
   "metadata": {},
   "source": [
    "Si on avait encadré cette expression par des guillemets simples '...' on aurait eu une erreur car l'apostrophe après le C ferme alors la chaine de caractères. "
   ]
  },
  {
   "cell_type": "markdown",
   "id": "959999ce",
   "metadata": {},
   "source": [
    "De même :"
   ]
  },
  {
   "cell_type": "code",
   "execution_count": 58,
   "id": "c4f2201b",
   "metadata": {},
   "outputs": [
    {
     "name": "stdout",
     "output_type": "stream",
     "text": [
      "Jules César a dit : \"alea jacta est\"\n"
     ]
    }
   ],
   "source": [
    "print('Jules César a dit : \"alea jacta est\"')"
   ]
  },
  {
   "cell_type": "markdown",
   "id": "3f25a751",
   "metadata": {},
   "source": [
    "Les triples guillemets permettent d'écrire des chaines sur plusieurs lignes, chaines qui peuvent contenir des guillemets \"...\" ou '...'. On les utilise notamment pour commenter des fonctions ; dans ce cas, la chaine de caractère est à placer directement sous l'instruction `def`, et on y accède depuis l'extérieur de la fonction via `help` :"
   ]
  },
  {
   "cell_type": "code",
   "execution_count": 59,
   "id": "8c3738b7",
   "metadata": {},
   "outputs": [
    {
     "name": "stdout",
     "output_type": "stream",
     "text": [
      "Help on function f in module __main__:\n",
      "\n",
      "f(x)\n",
      "    Fonction qui calcule la racine carrée du sinus de x\n",
      "    Les valeurs admises de x sont imposées par une étude du domaine :\n",
      "    x appartient à [k*2*pi,k*2*pi+pi], pour tout k entier.\n",
      "\n"
     ]
    }
   ],
   "source": [
    "def f(x) : \n",
    "    \"\"\"Fonction qui calcule la racine carrée du sinus de x\n",
    "        Les valeurs admises de x sont imposées par une étude du domaine :\n",
    "        x appartient à [k*2*pi,k*2*pi+pi], pour tout k entier. \n",
    "        \"\"\"\n",
    "    return np.sqrt(np.sin(x))\n",
    "    \n",
    "help(f)"
   ]
  },
  {
   "cell_type": "markdown",
   "id": "8ca3ecaf",
   "metadata": {},
   "source": [
    "### Séquences d'échappement"
   ]
  },
  {
   "cell_type": "markdown",
   "id": "bade5127",
   "metadata": {},
   "source": [
    "|Séquence|Signification|\n",
    "|:-|:-|\n",
    "|\\\\|Saut de ligne ignoré|\n",
    "|\\\\ \\\\|Caractère backslash|\n",
    "|\\\\'|Apostrophe|\n",
    "|\\\\\"|Guillemet|\n",
    "|\\b|Retour arrière d'un caractère|\n",
    "|\\\\n|Saut de ligne|\n",
    "|\\r|Retour en début de ligne|\n",
    "|\\t|tabulation horizontale|"
   ]
  },
  {
   "cell_type": "code",
   "execution_count": 60,
   "id": "12cb0607",
   "metadata": {},
   "outputs": [
    {
     "name": "stdout",
     "output_type": "stream",
     "text": [
      "Salut toi qui me lit\n"
     ]
    }
   ],
   "source": [
    "print(\"\"\"Salut toi\\\n",
    " qui me lit\"\"\")"
   ]
  },
  {
   "cell_type": "code",
   "execution_count": 61,
   "id": "e811169f",
   "metadata": {},
   "outputs": [
    {
     "name": "stdout",
     "output_type": "stream",
     "text": [
      "Ceci est un backslash : \\\n"
     ]
    }
   ],
   "source": [
    "print(\"Ceci est un backslash : \\\\\")"
   ]
  },
  {
   "cell_type": "code",
   "execution_count": 62,
   "id": "fe4ec3ef",
   "metadata": {},
   "outputs": [
    {
     "name": "stdout",
     "output_type": "stream",
     "text": [
      "C'est l'été !\n"
     ]
    }
   ],
   "source": [
    "print('C\\'est l\\'été !')"
   ]
  },
  {
   "cell_type": "code",
   "execution_count": 63,
   "id": "754c2bb6",
   "metadata": {},
   "outputs": [
    {
     "name": "stdout",
     "output_type": "stream",
     "text": [
      "Regarde bien la dernière lettrz\b\n",
      "Regarde bien la dernière lettrz\be\n"
     ]
    }
   ],
   "source": [
    "print(\"Regarde bien la dernière lettrz\\b\")\n",
    "print(\"Regarde bien la dernière lettrz\\be\")"
   ]
  },
  {
   "cell_type": "code",
   "execution_count": 64,
   "id": "de66bf10",
   "metadata": {},
   "outputs": [
    {
     "name": "stdout",
     "output_type": "stream",
     "text": [
      "Et je passe à la ligne\n",
      " suivante\n"
     ]
    }
   ],
   "source": [
    "print(\"Et je passe à la ligne\\n suivante\")"
   ]
  },
  {
   "cell_type": "code",
   "execution_count": 65,
   "id": "06164543",
   "metadata": {},
   "outputs": [
    {
     "name": "stdout",
     "output_type": "stream",
     "text": [
      "Et je passe à la ligne\n",
      "suivante\n"
     ]
    }
   ],
   "source": [
    "print(\"Et je passe à la ligne\\nsuivante\")"
   ]
  },
  {
   "cell_type": "code",
   "execution_count": 66,
   "id": "44cb5459",
   "metadata": {},
   "outputs": [
    {
     "name": "stdout",
     "output_type": "stream",
     "text": [
      "Lis bien\r",
      " ceci\n"
     ]
    }
   ],
   "source": [
    "print(\"Lis bien\\r ceci\")"
   ]
  },
  {
   "cell_type": "code",
   "execution_count": 67,
   "id": "6c3b5df3",
   "metadata": {},
   "outputs": [
    {
     "name": "stdout",
     "output_type": "stream",
     "text": [
      "Ce sont 3 tabulations\t\t\t horizontales\n"
     ]
    }
   ],
   "source": [
    "print(\"Ce sont 3 tabulations\\t\\t\\t horizontales\")"
   ]
  },
  {
   "cell_type": "markdown",
   "id": "2d81ca13",
   "metadata": {},
   "source": [
    "### Fonction, méthodes et opérations usuelles"
   ]
  },
  {
   "cell_type": "markdown",
   "id": "243ecef4",
   "metadata": {},
   "source": [
    "Les tableaux ci-dessous résument les différentes opérations/fonctions/méthodes ususelles qui s'appliquent aux chaines de caractères. Elles sont illustrées à la suite. Certaines seront aussi valables pour les listes et tuples, qu'on abordera en master 1.<br/>\n",
    "s et t sont deux chaines de caractères (ou deux listes ou deux tuples), x et y des éléments de la chaine (de la liste, du tuple), et n, i, j et k des entiers. <br/>\n",
    "Pour une liste exhaustive des *méthodes* du type *str*, voir https://www.w3schools.com/python/python_strings_methods.asp "
   ]
  },
  {
   "cell_type": "markdown",
   "id": "fab1b5ad",
   "metadata": {},
   "source": [
    "#### Opérations, fonctions et méthodes pour les types str, list et tuple"
   ]
  },
  {
   "cell_type": "markdown",
   "id": "9131c437",
   "metadata": {},
   "source": [
    "|Opération/Fonction/Méthode|Signification|\n",
    "|:-|:-|\n",
    "|`x in s`|`True`si contient x, `False` sinon|\n",
    "|`x not in s`|`True`si ne contient pas x, `False` sinon|\n",
    "|`s+t`|concaténation de s et t|\n",
    "|`n*s`|n copies concaténées de s|\n",
    "|`s[i]`|i<sup>ème</sup> élément de s, à partir de 0|\n",
    "|`s[i:j]`|tranche de s de l'indice i (inclus) à l'indice j (exclu)|\n",
    "|`s[i:j:k]`|idem avec un pas de k|\n",
    "|`s[:i]`|tranche de s du début jusqu'à l'indice i (exclu)|\n",
    "|`s[i:]`|tranche de s de l'indice i (inclus) jusqu'à la fin|\n",
    "|`s[::k]`|partie de s dont on a pris 1 élément sur k sur tout s|\n",
    "|`len(s)`|nombre d'éléments de s|\n",
    "|`max(s)`|plus grand élément de s|\n",
    "|`min(s)`|plus petit élément de s|\n",
    "|`s.index(x)`|indice de la 1<sup>ère</sup> occurence de x dans s. Renvoie une erreur si x non trouvé.|\n",
    "|`s.count(x)`|nombre d'occurence de x dans s|"
   ]
  },
  {
   "cell_type": "markdown",
   "id": "07a19ea7",
   "metadata": {},
   "source": [
    "#### Méthodes propres au type str"
   ]
  },
  {
   "cell_type": "markdown",
   "id": "39c891b2",
   "metadata": {},
   "source": [
    "|Méthode|Signification|\n",
    "|:-|:-|\n",
    "|`s.lower()`|met tous les caractères en minuscule|\n",
    "|`s.upper()`|met tous les caractères en majuscule|\n",
    "|`s.swapcase()`|minuscule devient majuscule et inversément|\n",
    "|`s.capitalize()`|met la première lettre du premier mot en majuscule, les autres en minuscule|\n",
    "|`s.title()`|met, à chaque mot, la première lettre est mise en majuscule, les autres en minuscule|\n",
    "|`s.lstrip()`|Supprime les espaces en début de chaine|\n",
    "|`s.rstrip()`|Supprime les espaces en fin de chaine|\n",
    "|`s.lstrip(x)`|Supprime les caractères en tête de chaine, tels que spécifiés par x|\n",
    "|`s.rstrip(x)`|Supprime les caractères en fin de chaine, tels que spécifiés par x|\n",
    "|`s.strip()`|Supprime les espaces en début et fin de chaine|\n",
    "|`s.strip(x)`|Supprime les caractères en début et fin de chaine, tels que spécifiés par x|\n",
    "|`s.center(n,x)`|Centre la chaine sur n caractères, et comble les trous avec x|\n",
    "|`s.ljust(n,x)`|Aligne la chaine à gauche sur n caractères, et comble les trous avec x|\n",
    "|`s.rjust(n,x)`|Aligne la chaine à droite sur n caractères, et comble les trous avec x|\n",
    "|`s.replace(x,y)`|Dans la chaine s, remplace x par y|\n",
    "|`s.split()`|Découpe la chaine aux espaces. Morceaux mis dans une liste|\n",
    "|`s.split(x)`|Découpe la chaine au séparateur x. Morceaux mis dans une liste|\n",
    "|`s.isupper()`|`True` si tout en majuscules|\n",
    "|`s.islower()`|`True` si tout en minuscules|\n",
    "|`s.isalpha()`|`True` si ne contient que des lettres|\n",
    "|`s.isdigit()`|`True` si ne contient que des chiffres|\n",
    "|`s.startswith(x)`|`True` si commence par x|\n",
    "|`s.endswith(x)`|`True` si termine par x|\n",
    "|`s.find(x)`|Indice de la 1<sup>ère</sup> occurence de x, en démarrant de la gauche. Renvoie -1 si x non trouvé.|\n",
    "|`s.rfind(x)`|Indice de la 1<sup>ère</sup> occurence de x, en démarrant de la droite. Renvoie -1 si x non trouvé.|\n",
    "|`s.rindex(x)`|Identique à rfind, sauf qu'il renvoie une erreur si x non trouvé|\n",
    "|`s.count(x,i,j)`|Nombre d'occurence de x dans s, entre les indices i (compris) et j (non compris)|"
   ]
  },
  {
   "cell_type": "markdown",
   "id": "b6f17176",
   "metadata": {},
   "source": [
    "#### Illustration : les bases"
   ]
  },
  {
   "cell_type": "code",
   "execution_count": 68,
   "id": "aacf8274",
   "metadata": {},
   "outputs": [
    {
     "data": {
      "text/plain": [
       "7"
      ]
     },
     "execution_count": 68,
     "metadata": {},
     "output_type": "execute_result"
    }
   ],
   "source": [
    "len(\"Hi you!\")    # Longueur chaine (nombre de caractères)"
   ]
  },
  {
   "cell_type": "code",
   "execution_count": 69,
   "id": "df0fcb6b",
   "metadata": {},
   "outputs": [
    {
     "data": {
      "text/plain": [
       "'Hi you!'"
      ]
     },
     "execution_count": 69,
     "metadata": {},
     "output_type": "execute_result"
    }
   ],
   "source": [
    "\"Hi\"+\" \"+\"you!\"  # Concaténation (mise bout à bout de chaines)"
   ]
  },
  {
   "cell_type": "code",
   "execution_count": 70,
   "id": "7ad73eee",
   "metadata": {},
   "outputs": [
    {
     "data": {
      "text/plain": [
       "'Hey Hey Hey Hey '"
      ]
     },
     "execution_count": 70,
     "metadata": {},
     "output_type": "execute_result"
    }
   ],
   "source": [
    "\"Hey \"*4         # Répétition"
   ]
  },
  {
   "cell_type": "code",
   "execution_count": 71,
   "id": "ec3ed02f",
   "metadata": {},
   "outputs": [
    {
     "data": {
      "text/plain": [
       "True"
      ]
     },
     "execution_count": 71,
     "metadata": {},
     "output_type": "execute_result"
    }
   ],
   "source": [
    "\"tho\" in \"Python\"     # Appartenance de \"tho\" dans le mot \"Python\""
   ]
  },
  {
   "cell_type": "code",
   "execution_count": 72,
   "id": "ac2e0a3b",
   "metadata": {},
   "outputs": [
    {
     "data": {
      "text/plain": [
       "False"
      ]
     },
     "execution_count": 72,
     "metadata": {},
     "output_type": "execute_result"
    }
   ],
   "source": [
    "\"p\" in \"Python\""
   ]
  },
  {
   "cell_type": "code",
   "execution_count": 73,
   "id": "0d7f0b80",
   "metadata": {},
   "outputs": [
    {
     "data": {
      "text/plain": [
       "True"
      ]
     },
     "execution_count": 73,
     "metadata": {},
     "output_type": "execute_result"
    }
   ],
   "source": [
    "\"P\" in \"Python\""
   ]
  },
  {
   "cell_type": "code",
   "execution_count": 74,
   "id": "a6f4b94a",
   "metadata": {},
   "outputs": [
    {
     "data": {
      "text/plain": [
       "False"
      ]
     },
     "execution_count": 74,
     "metadata": {},
     "output_type": "execute_result"
    }
   ],
   "source": [
    "\"Pyon\" in \"Python\""
   ]
  },
  {
   "cell_type": "code",
   "execution_count": 75,
   "id": "e26dfa6d",
   "metadata": {},
   "outputs": [
    {
     "data": {
      "text/plain": [
       "'u'"
      ]
     },
     "execution_count": 75,
     "metadata": {},
     "output_type": "execute_result"
    }
   ],
   "source": [
    "max(\"Anticonstitutionnel\")     # lettre la plus \"grande\" dans l'ordre alphabétique"
   ]
  },
  {
   "cell_type": "markdown",
   "id": "2a7c3ffc",
   "metadata": {},
   "source": [
    "#### Illustration : voyager dans une chaine de caractères"
   ]
  },
  {
   "cell_type": "code",
   "execution_count": 76,
   "id": "c5f2b07b",
   "metadata": {},
   "outputs": [
    {
     "name": "stdout",
     "output_type": "stream",
     "text": [
      "M\n",
      "a\n",
      "s\n",
      "e\n",
      "Mat\n",
      "Mat\n",
      "hématiques\n",
      "éai\n",
      "Mhaqs\n",
      "seuqitaméhtaM\n"
     ]
    }
   ],
   "source": [
    "x=\"Mathématiques\"\n",
    "print(x[0])\n",
    "print(x[1])\n",
    "print(x[-1])      # Dernier indice\n",
    "print(x[-2])\n",
    "print(x[0:3])     # indices 0 à 2\n",
    "print(x[:3])      # Idem\n",
    "print(x[3:])      # De l'indice 3 à la fin\n",
    "print(x[4:9:2])   # Indices 4 à 8 par pas de 2\n",
    "print(x[::3])     # Une lettre sur 3, de gauche à droite\n",
    "print(x[::-1])    # En sens inverse"
   ]
  },
  {
   "cell_type": "markdown",
   "id": "6d012677",
   "metadata": {},
   "source": [
    "#### Illustration : méthodes renvoyant une nouvelle chaine"
   ]
  },
  {
   "cell_type": "code",
   "execution_count": 77,
   "id": "1a20b005",
   "metadata": {},
   "outputs": [
    {
     "data": {
      "text/plain": [
       "'hello'"
      ]
     },
     "execution_count": 77,
     "metadata": {},
     "output_type": "execute_result"
    }
   ],
   "source": [
    "\"HeLLo\".lower()   # met tous les caractères en minuscule"
   ]
  },
  {
   "cell_type": "code",
   "execution_count": 78,
   "id": "c94b415b",
   "metadata": {},
   "outputs": [
    {
     "data": {
      "text/plain": [
       "'HELLO'"
      ]
     },
     "execution_count": 78,
     "metadata": {},
     "output_type": "execute_result"
    }
   ],
   "source": [
    "\"HeLLo\".upper()   # met tous les caractères en majuscule"
   ]
  },
  {
   "cell_type": "code",
   "execution_count": 79,
   "id": "e2b99d9d",
   "metadata": {},
   "outputs": [
    {
     "data": {
      "text/plain": [
       "'hEllO'"
      ]
     },
     "execution_count": 79,
     "metadata": {},
     "output_type": "execute_result"
    }
   ],
   "source": [
    "\"HeLLo\".swapcase()   # minuscule devient majuscule et inversément"
   ]
  },
  {
   "cell_type": "code",
   "execution_count": 80,
   "id": "b118740d",
   "metadata": {},
   "outputs": [
    {
     "data": {
      "text/plain": [
       "'mathématiques   '"
      ]
     },
     "execution_count": 80,
     "metadata": {},
     "output_type": "execute_result"
    }
   ],
   "source": [
    "\"     mathématiques   \".lstrip()     # Suppression des espaces en début de chaine"
   ]
  },
  {
   "cell_type": "code",
   "execution_count": 81,
   "id": "6638289e",
   "metadata": {},
   "outputs": [
    {
     "data": {
      "text/plain": [
       "'     mathématiques'"
      ]
     },
     "execution_count": 81,
     "metadata": {},
     "output_type": "execute_result"
    }
   ],
   "source": [
    "\"     mathématiques   \".rstrip()     # Suppression des espaces en fin de chaine"
   ]
  },
  {
   "cell_type": "code",
   "execution_count": 82,
   "id": "4c8e2205",
   "metadata": {},
   "outputs": [
    {
     "data": {
      "text/plain": [
       "'banana'"
      ]
     },
     "execution_count": 82,
     "metadata": {},
     "output_type": "execute_result"
    }
   ],
   "source": [
    "txt=\",,,,,ssaaww.....banana\"\n",
    "txt.lstrip(\",.asw\")                   # Suppression des caractères en tête, tels que spécifiés"
   ]
  },
  {
   "cell_type": "code",
   "execution_count": 83,
   "id": "468bc2e3",
   "metadata": {},
   "outputs": [
    {
     "data": {
      "text/plain": [
       "'**********mathématiques**********'"
      ]
     },
     "execution_count": 83,
     "metadata": {},
     "output_type": "execute_result"
    }
   ],
   "source": [
    "\"mathématiques\".center(33,'*')       # centrer la chaine sur 33 caractères "
   ]
  },
  {
   "cell_type": "code",
   "execution_count": 84,
   "id": "76615c90",
   "metadata": {},
   "outputs": [
    {
     "data": {
      "text/plain": [
       "'Le grand prince'"
      ]
     },
     "execution_count": 84,
     "metadata": {},
     "output_type": "execute_result"
    }
   ],
   "source": [
    "\"Le petit prince\".replace('petit','grand')     # Remplacement "
   ]
  },
  {
   "cell_type": "code",
   "execution_count": 85,
   "id": "a1ac4905",
   "metadata": {},
   "outputs": [
    {
     "data": {
      "text/plain": [
       "['Jacouille', 'la', 'fripouille']"
      ]
     },
     "execution_count": 85,
     "metadata": {},
     "output_type": "execute_result"
    }
   ],
   "source": [
    "\"Jacouille la       fripouille\".split()       # Découpe la chaine"
   ]
  },
  {
   "cell_type": "code",
   "execution_count": 86,
   "id": "a28b3756",
   "metadata": {},
   "outputs": [
    {
     "data": {
      "text/plain": [
       "['Jacouille', 'la', 'fripouille']"
      ]
     },
     "execution_count": 86,
     "metadata": {},
     "output_type": "execute_result"
    }
   ],
   "source": [
    "\"Jacouille*la*fripouille\".split('*')    # Découpe la chaine, séparateur à sépcifier si autre chiose que des espaces"
   ]
  },
  {
   "cell_type": "markdown",
   "id": "49fbd8b6",
   "metadata": {},
   "source": [
    "#### Illustration : méthodes de test de l'état d'une chaine"
   ]
  },
  {
   "cell_type": "code",
   "execution_count": 87,
   "id": "b28aa457",
   "metadata": {},
   "outputs": [
    {
     "data": {
      "text/plain": [
       "True"
      ]
     },
     "execution_count": 87,
     "metadata": {},
     "output_type": "execute_result"
    }
   ],
   "source": [
    "\"CECI EST EN MAJUSCULE\".isupper()      # islower() existe aussi"
   ]
  },
  {
   "cell_type": "code",
   "execution_count": 88,
   "id": "d23f38d6",
   "metadata": {},
   "outputs": [
    {
     "data": {
      "text/plain": [
       "False"
      ]
     },
     "execution_count": 88,
     "metadata": {},
     "output_type": "execute_result"
    }
   ],
   "source": [
    "\"CECI n'EST pas TOTALEMENT EN MAJUSCULE\".isupper()"
   ]
  },
  {
   "cell_type": "code",
   "execution_count": 89,
   "id": "b28eac30",
   "metadata": {},
   "outputs": [
    {
     "data": {
      "text/plain": [
       "True"
      ]
     },
     "execution_count": 89,
     "metadata": {},
     "output_type": "execute_result"
    }
   ],
   "source": [
    "\"Cecinecontientquedeslettres\".isalpha()    # vrai si ne contient que des lettres"
   ]
  },
  {
   "cell_type": "code",
   "execution_count": 90,
   "id": "0a1adede",
   "metadata": {},
   "outputs": [
    {
     "data": {
      "text/plain": [
       "False"
      ]
     },
     "execution_count": 90,
     "metadata": {},
     "output_type": "execute_result"
    }
   ],
   "source": [
    "\"Ceci ne contient que des lettres et des epaces\".isalpha()"
   ]
  },
  {
   "cell_type": "code",
   "execution_count": 91,
   "id": "d3adc520",
   "metadata": {},
   "outputs": [
    {
     "data": {
      "text/plain": [
       "True"
      ]
     },
     "execution_count": 91,
     "metadata": {},
     "output_type": "execute_result"
    }
   ],
   "source": [
    "\"12345\".isdigit()     # vrai si ne contient que des chiffres"
   ]
  },
  {
   "cell_type": "code",
   "execution_count": 92,
   "id": "abba95ee",
   "metadata": {},
   "outputs": [
    {
     "data": {
      "text/plain": [
       "True"
      ]
     },
     "execution_count": 92,
     "metadata": {},
     "output_type": "execute_result"
    }
   ],
   "source": [
    "\"Mathématiques\".startswith(\"Math\")        # Vrai si commence par...    # endswith existe aussi"
   ]
  },
  {
   "cell_type": "markdown",
   "id": "52925352",
   "metadata": {},
   "source": [
    "#### Illustration : méthodes renvoyant un indice"
   ]
  },
  {
   "cell_type": "markdown",
   "id": "fa32d0a7",
   "metadata": {},
   "source": [
    "Aide en ligne : \n",
    "- Méthode find : https://www.w3schools.com/python/ref_string_find.asp\n",
    "- Méthode rfind : https://www.w3schools.com/python/ref_string_rfind.asp\n",
    "\n",
    "`index` et `rindex` font de même mais produisent une erreur si la chaine n'est pas trouvée. "
   ]
  },
  {
   "cell_type": "code",
   "execution_count": 93,
   "id": "e699ab47",
   "metadata": {},
   "outputs": [
    {
     "data": {
      "text/plain": [
       "1"
      ]
     },
     "execution_count": 93,
     "metadata": {},
     "output_type": "execute_result"
    }
   ],
   "source": [
    "\"Mathématiques\".find(\"a\")       # position du premier \"a\" en démarrant de la gauche (rappel : les indices commencent à 0)"
   ]
  },
  {
   "cell_type": "code",
   "execution_count": 94,
   "id": "14c0f15e",
   "metadata": {},
   "outputs": [
    {
     "data": {
      "text/plain": [
       "2"
      ]
     },
     "execution_count": 94,
     "metadata": {},
     "output_type": "execute_result"
    }
   ],
   "source": [
    "\"Mathématiques\".find(\"t\")      "
   ]
  },
  {
   "cell_type": "code",
   "execution_count": 95,
   "id": "d4245fc4",
   "metadata": {},
   "outputs": [
    {
     "data": {
      "text/plain": [
       "6"
      ]
     },
     "execution_count": 95,
     "metadata": {},
     "output_type": "execute_result"
    }
   ],
   "source": [
    "\"Mathématiques\".rfind(\"a\")       # position du premier \"a\" en démarrant de la droite"
   ]
  },
  {
   "cell_type": "code",
   "execution_count": 96,
   "id": "f18b7185",
   "metadata": {},
   "outputs": [
    {
     "data": {
      "text/plain": [
       "-1"
      ]
     },
     "execution_count": 96,
     "metadata": {},
     "output_type": "execute_result"
    }
   ],
   "source": [
    "\"Mathématiques\".find(\"z\")         # \"z\" non trouvé => -1"
   ]
  }
 ],
 "metadata": {
  "kernelspec": {
   "display_name": "Python 3 (ipykernel)",
   "language": "python",
   "name": "python3"
  },
  "language_info": {
   "codemirror_mode": {
    "name": "ipython",
    "version": 3
   },
   "file_extension": ".py",
   "mimetype": "text/x-python",
   "name": "python",
   "nbconvert_exporter": "python",
   "pygments_lexer": "ipython3",
   "version": "3.10.9"
  }
 },
 "nbformat": 4,
 "nbformat_minor": 5
}
